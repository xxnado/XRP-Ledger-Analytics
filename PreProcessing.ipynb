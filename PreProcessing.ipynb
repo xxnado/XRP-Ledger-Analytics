{
 "cells": [
  {
   "cell_type": "code",
   "execution_count": 3,
   "id": "initial_id",
   "metadata": {
    "collapsed": true,
    "ExecuteTime": {
     "end_time": "2024-09-07T15:31:52.371605Z",
     "start_time": "2024-09-07T15:31:50.579110Z"
    }
   },
   "outputs": [
    {
     "name": "stdout",
     "output_type": "stream",
     "text": [
      "Requirement already satisfied: requests in /Users/leonardoheinemann/anaconda3/lib/python3.11/site-packages (2.31.0)\r\n",
      "Requirement already satisfied: charset-normalizer<4,>=2 in /Users/leonardoheinemann/anaconda3/lib/python3.11/site-packages (from requests) (2.0.4)\r\n",
      "Requirement already satisfied: idna<4,>=2.5 in /Users/leonardoheinemann/anaconda3/lib/python3.11/site-packages (from requests) (3.4)\r\n",
      "Requirement already satisfied: urllib3<3,>=1.21.1 in /Users/leonardoheinemann/anaconda3/lib/python3.11/site-packages (from requests) (2.0.7)\r\n",
      "Requirement already satisfied: certifi>=2017.4.17 in /Users/leonardoheinemann/anaconda3/lib/python3.11/site-packages (from requests) (2024.8.30)\r\n"
     ]
    }
   ],
   "source": [
    "!pip install requests"
   ]
  },
  {
   "cell_type": "code",
   "outputs": [
    {
     "ename": "KeyboardInterrupt",
     "evalue": "",
     "output_type": "error",
     "traceback": [
      "\u001B[0;31m---------------------------------------------------------------------------\u001B[0m",
      "\u001B[0;31mKeyboardInterrupt\u001B[0m                         Traceback (most recent call last)",
      "Cell \u001B[0;32mIn[5], line 15\u001B[0m\n\u001B[1;32m      9\u001B[0m initial_payload \u001B[38;5;241m=\u001B[39m {\n\u001B[1;32m     10\u001B[0m     \u001B[38;5;124m\"\u001B[39m\u001B[38;5;124mmethod\u001B[39m\u001B[38;5;124m\"\u001B[39m: \u001B[38;5;124m\"\u001B[39m\u001B[38;5;124mledger_current\u001B[39m\u001B[38;5;124m\"\u001B[39m,\n\u001B[1;32m     11\u001B[0m     \u001B[38;5;124m\"\u001B[39m\u001B[38;5;124mparams\u001B[39m\u001B[38;5;124m\"\u001B[39m: [{}]\n\u001B[1;32m     12\u001B[0m }\n\u001B[1;32m     14\u001B[0m \u001B[38;5;66;03m# Send the request to get the latest validated ledger\u001B[39;00m\n\u001B[0;32m---> 15\u001B[0m response \u001B[38;5;241m=\u001B[39m \u001B[43mrequests\u001B[49m\u001B[38;5;241;43m.\u001B[39;49m\u001B[43mpost\u001B[49m\u001B[43m(\u001B[49m\u001B[43murl\u001B[49m\u001B[43m,\u001B[49m\u001B[43m \u001B[49m\u001B[43mjson\u001B[49m\u001B[38;5;241;43m=\u001B[39;49m\u001B[43minitial_payload\u001B[49m\u001B[43m)\u001B[49m\n\u001B[1;32m     16\u001B[0m latest_ledger_index \u001B[38;5;241m=\u001B[39m response\u001B[38;5;241m.\u001B[39mjson()\u001B[38;5;241m.\u001B[39mget(\u001B[38;5;124m\"\u001B[39m\u001B[38;5;124mresult\u001B[39m\u001B[38;5;124m\"\u001B[39m, {})\u001B[38;5;241m.\u001B[39mget(\u001B[38;5;124m\"\u001B[39m\u001B[38;5;124mledger_current_index\u001B[39m\u001B[38;5;124m\"\u001B[39m)\n\u001B[1;32m     18\u001B[0m \u001B[38;5;66;03m# Define the number of ledgers to retrieve\u001B[39;00m\n",
      "File \u001B[0;32m~/anaconda3/lib/python3.11/site-packages/requests/api.py:115\u001B[0m, in \u001B[0;36mpost\u001B[0;34m(url, data, json, **kwargs)\u001B[0m\n\u001B[1;32m    103\u001B[0m \u001B[38;5;28;01mdef\u001B[39;00m \u001B[38;5;21mpost\u001B[39m(url, data\u001B[38;5;241m=\u001B[39m\u001B[38;5;28;01mNone\u001B[39;00m, json\u001B[38;5;241m=\u001B[39m\u001B[38;5;28;01mNone\u001B[39;00m, \u001B[38;5;241m*\u001B[39m\u001B[38;5;241m*\u001B[39mkwargs):\n\u001B[1;32m    104\u001B[0m \u001B[38;5;250m    \u001B[39m\u001B[38;5;124mr\u001B[39m\u001B[38;5;124;03m\"\"\"Sends a POST request.\u001B[39;00m\n\u001B[1;32m    105\u001B[0m \n\u001B[1;32m    106\u001B[0m \u001B[38;5;124;03m    :param url: URL for the new :class:`Request` object.\u001B[39;00m\n\u001B[0;32m   (...)\u001B[0m\n\u001B[1;32m    112\u001B[0m \u001B[38;5;124;03m    :rtype: requests.Response\u001B[39;00m\n\u001B[1;32m    113\u001B[0m \u001B[38;5;124;03m    \"\"\"\u001B[39;00m\n\u001B[0;32m--> 115\u001B[0m     \u001B[38;5;28;01mreturn\u001B[39;00m \u001B[43mrequest\u001B[49m\u001B[43m(\u001B[49m\u001B[38;5;124;43m\"\u001B[39;49m\u001B[38;5;124;43mpost\u001B[39;49m\u001B[38;5;124;43m\"\u001B[39;49m\u001B[43m,\u001B[49m\u001B[43m \u001B[49m\u001B[43murl\u001B[49m\u001B[43m,\u001B[49m\u001B[43m \u001B[49m\u001B[43mdata\u001B[49m\u001B[38;5;241;43m=\u001B[39;49m\u001B[43mdata\u001B[49m\u001B[43m,\u001B[49m\u001B[43m \u001B[49m\u001B[43mjson\u001B[49m\u001B[38;5;241;43m=\u001B[39;49m\u001B[43mjson\u001B[49m\u001B[43m,\u001B[49m\u001B[43m \u001B[49m\u001B[38;5;241;43m*\u001B[39;49m\u001B[38;5;241;43m*\u001B[39;49m\u001B[43mkwargs\u001B[49m\u001B[43m)\u001B[49m\n",
      "File \u001B[0;32m~/anaconda3/lib/python3.11/site-packages/requests/api.py:59\u001B[0m, in \u001B[0;36mrequest\u001B[0;34m(method, url, **kwargs)\u001B[0m\n\u001B[1;32m     55\u001B[0m \u001B[38;5;66;03m# By using the 'with' statement we are sure the session is closed, thus we\u001B[39;00m\n\u001B[1;32m     56\u001B[0m \u001B[38;5;66;03m# avoid leaving sockets open which can trigger a ResourceWarning in some\u001B[39;00m\n\u001B[1;32m     57\u001B[0m \u001B[38;5;66;03m# cases, and look like a memory leak in others.\u001B[39;00m\n\u001B[1;32m     58\u001B[0m \u001B[38;5;28;01mwith\u001B[39;00m sessions\u001B[38;5;241m.\u001B[39mSession() \u001B[38;5;28;01mas\u001B[39;00m session:\n\u001B[0;32m---> 59\u001B[0m     \u001B[38;5;28;01mreturn\u001B[39;00m \u001B[43msession\u001B[49m\u001B[38;5;241;43m.\u001B[39;49m\u001B[43mrequest\u001B[49m\u001B[43m(\u001B[49m\u001B[43mmethod\u001B[49m\u001B[38;5;241;43m=\u001B[39;49m\u001B[43mmethod\u001B[49m\u001B[43m,\u001B[49m\u001B[43m \u001B[49m\u001B[43murl\u001B[49m\u001B[38;5;241;43m=\u001B[39;49m\u001B[43murl\u001B[49m\u001B[43m,\u001B[49m\u001B[43m \u001B[49m\u001B[38;5;241;43m*\u001B[39;49m\u001B[38;5;241;43m*\u001B[39;49m\u001B[43mkwargs\u001B[49m\u001B[43m)\u001B[49m\n",
      "File \u001B[0;32m~/anaconda3/lib/python3.11/site-packages/requests/sessions.py:589\u001B[0m, in \u001B[0;36mSession.request\u001B[0;34m(self, method, url, params, data, headers, cookies, files, auth, timeout, allow_redirects, proxies, hooks, stream, verify, cert, json)\u001B[0m\n\u001B[1;32m    584\u001B[0m send_kwargs \u001B[38;5;241m=\u001B[39m {\n\u001B[1;32m    585\u001B[0m     \u001B[38;5;124m\"\u001B[39m\u001B[38;5;124mtimeout\u001B[39m\u001B[38;5;124m\"\u001B[39m: timeout,\n\u001B[1;32m    586\u001B[0m     \u001B[38;5;124m\"\u001B[39m\u001B[38;5;124mallow_redirects\u001B[39m\u001B[38;5;124m\"\u001B[39m: allow_redirects,\n\u001B[1;32m    587\u001B[0m }\n\u001B[1;32m    588\u001B[0m send_kwargs\u001B[38;5;241m.\u001B[39mupdate(settings)\n\u001B[0;32m--> 589\u001B[0m resp \u001B[38;5;241m=\u001B[39m \u001B[38;5;28;43mself\u001B[39;49m\u001B[38;5;241;43m.\u001B[39;49m\u001B[43msend\u001B[49m\u001B[43m(\u001B[49m\u001B[43mprep\u001B[49m\u001B[43m,\u001B[49m\u001B[43m \u001B[49m\u001B[38;5;241;43m*\u001B[39;49m\u001B[38;5;241;43m*\u001B[39;49m\u001B[43msend_kwargs\u001B[49m\u001B[43m)\u001B[49m\n\u001B[1;32m    591\u001B[0m \u001B[38;5;28;01mreturn\u001B[39;00m resp\n",
      "File \u001B[0;32m~/anaconda3/lib/python3.11/site-packages/requests/sessions.py:703\u001B[0m, in \u001B[0;36mSession.send\u001B[0;34m(self, request, **kwargs)\u001B[0m\n\u001B[1;32m    700\u001B[0m start \u001B[38;5;241m=\u001B[39m preferred_clock()\n\u001B[1;32m    702\u001B[0m \u001B[38;5;66;03m# Send the request\u001B[39;00m\n\u001B[0;32m--> 703\u001B[0m r \u001B[38;5;241m=\u001B[39m \u001B[43madapter\u001B[49m\u001B[38;5;241;43m.\u001B[39;49m\u001B[43msend\u001B[49m\u001B[43m(\u001B[49m\u001B[43mrequest\u001B[49m\u001B[43m,\u001B[49m\u001B[43m \u001B[49m\u001B[38;5;241;43m*\u001B[39;49m\u001B[38;5;241;43m*\u001B[39;49m\u001B[43mkwargs\u001B[49m\u001B[43m)\u001B[49m\n\u001B[1;32m    705\u001B[0m \u001B[38;5;66;03m# Total elapsed time of the request (approximately)\u001B[39;00m\n\u001B[1;32m    706\u001B[0m elapsed \u001B[38;5;241m=\u001B[39m preferred_clock() \u001B[38;5;241m-\u001B[39m start\n",
      "File \u001B[0;32m~/anaconda3/lib/python3.11/site-packages/requests/adapters.py:486\u001B[0m, in \u001B[0;36mHTTPAdapter.send\u001B[0;34m(self, request, stream, timeout, verify, cert, proxies)\u001B[0m\n\u001B[1;32m    483\u001B[0m     timeout \u001B[38;5;241m=\u001B[39m TimeoutSauce(connect\u001B[38;5;241m=\u001B[39mtimeout, read\u001B[38;5;241m=\u001B[39mtimeout)\n\u001B[1;32m    485\u001B[0m \u001B[38;5;28;01mtry\u001B[39;00m:\n\u001B[0;32m--> 486\u001B[0m     resp \u001B[38;5;241m=\u001B[39m \u001B[43mconn\u001B[49m\u001B[38;5;241;43m.\u001B[39;49m\u001B[43murlopen\u001B[49m\u001B[43m(\u001B[49m\n\u001B[1;32m    487\u001B[0m \u001B[43m        \u001B[49m\u001B[43mmethod\u001B[49m\u001B[38;5;241;43m=\u001B[39;49m\u001B[43mrequest\u001B[49m\u001B[38;5;241;43m.\u001B[39;49m\u001B[43mmethod\u001B[49m\u001B[43m,\u001B[49m\n\u001B[1;32m    488\u001B[0m \u001B[43m        \u001B[49m\u001B[43murl\u001B[49m\u001B[38;5;241;43m=\u001B[39;49m\u001B[43murl\u001B[49m\u001B[43m,\u001B[49m\n\u001B[1;32m    489\u001B[0m \u001B[43m        \u001B[49m\u001B[43mbody\u001B[49m\u001B[38;5;241;43m=\u001B[39;49m\u001B[43mrequest\u001B[49m\u001B[38;5;241;43m.\u001B[39;49m\u001B[43mbody\u001B[49m\u001B[43m,\u001B[49m\n\u001B[1;32m    490\u001B[0m \u001B[43m        \u001B[49m\u001B[43mheaders\u001B[49m\u001B[38;5;241;43m=\u001B[39;49m\u001B[43mrequest\u001B[49m\u001B[38;5;241;43m.\u001B[39;49m\u001B[43mheaders\u001B[49m\u001B[43m,\u001B[49m\n\u001B[1;32m    491\u001B[0m \u001B[43m        \u001B[49m\u001B[43mredirect\u001B[49m\u001B[38;5;241;43m=\u001B[39;49m\u001B[38;5;28;43;01mFalse\u001B[39;49;00m\u001B[43m,\u001B[49m\n\u001B[1;32m    492\u001B[0m \u001B[43m        \u001B[49m\u001B[43massert_same_host\u001B[49m\u001B[38;5;241;43m=\u001B[39;49m\u001B[38;5;28;43;01mFalse\u001B[39;49;00m\u001B[43m,\u001B[49m\n\u001B[1;32m    493\u001B[0m \u001B[43m        \u001B[49m\u001B[43mpreload_content\u001B[49m\u001B[38;5;241;43m=\u001B[39;49m\u001B[38;5;28;43;01mFalse\u001B[39;49;00m\u001B[43m,\u001B[49m\n\u001B[1;32m    494\u001B[0m \u001B[43m        \u001B[49m\u001B[43mdecode_content\u001B[49m\u001B[38;5;241;43m=\u001B[39;49m\u001B[38;5;28;43;01mFalse\u001B[39;49;00m\u001B[43m,\u001B[49m\n\u001B[1;32m    495\u001B[0m \u001B[43m        \u001B[49m\u001B[43mretries\u001B[49m\u001B[38;5;241;43m=\u001B[39;49m\u001B[38;5;28;43mself\u001B[39;49m\u001B[38;5;241;43m.\u001B[39;49m\u001B[43mmax_retries\u001B[49m\u001B[43m,\u001B[49m\n\u001B[1;32m    496\u001B[0m \u001B[43m        \u001B[49m\u001B[43mtimeout\u001B[49m\u001B[38;5;241;43m=\u001B[39;49m\u001B[43mtimeout\u001B[49m\u001B[43m,\u001B[49m\n\u001B[1;32m    497\u001B[0m \u001B[43m        \u001B[49m\u001B[43mchunked\u001B[49m\u001B[38;5;241;43m=\u001B[39;49m\u001B[43mchunked\u001B[49m\u001B[43m,\u001B[49m\n\u001B[1;32m    498\u001B[0m \u001B[43m    \u001B[49m\u001B[43m)\u001B[49m\n\u001B[1;32m    500\u001B[0m \u001B[38;5;28;01mexcept\u001B[39;00m (ProtocolError, \u001B[38;5;167;01mOSError\u001B[39;00m) \u001B[38;5;28;01mas\u001B[39;00m err:\n\u001B[1;32m    501\u001B[0m     \u001B[38;5;28;01mraise\u001B[39;00m \u001B[38;5;167;01mConnectionError\u001B[39;00m(err, request\u001B[38;5;241m=\u001B[39mrequest)\n",
      "File \u001B[0;32m~/anaconda3/lib/python3.11/site-packages/urllib3/connectionpool.py:791\u001B[0m, in \u001B[0;36mHTTPConnectionPool.urlopen\u001B[0;34m(self, method, url, body, headers, retries, redirect, assert_same_host, timeout, pool_timeout, release_conn, chunked, body_pos, preload_content, decode_content, **response_kw)\u001B[0m\n\u001B[1;32m    788\u001B[0m response_conn \u001B[38;5;241m=\u001B[39m conn \u001B[38;5;28;01mif\u001B[39;00m \u001B[38;5;129;01mnot\u001B[39;00m release_conn \u001B[38;5;28;01melse\u001B[39;00m \u001B[38;5;28;01mNone\u001B[39;00m\n\u001B[1;32m    790\u001B[0m \u001B[38;5;66;03m# Make the request on the HTTPConnection object\u001B[39;00m\n\u001B[0;32m--> 791\u001B[0m response \u001B[38;5;241m=\u001B[39m \u001B[38;5;28;43mself\u001B[39;49m\u001B[38;5;241;43m.\u001B[39;49m\u001B[43m_make_request\u001B[49m\u001B[43m(\u001B[49m\n\u001B[1;32m    792\u001B[0m \u001B[43m    \u001B[49m\u001B[43mconn\u001B[49m\u001B[43m,\u001B[49m\n\u001B[1;32m    793\u001B[0m \u001B[43m    \u001B[49m\u001B[43mmethod\u001B[49m\u001B[43m,\u001B[49m\n\u001B[1;32m    794\u001B[0m \u001B[43m    \u001B[49m\u001B[43murl\u001B[49m\u001B[43m,\u001B[49m\n\u001B[1;32m    795\u001B[0m \u001B[43m    \u001B[49m\u001B[43mtimeout\u001B[49m\u001B[38;5;241;43m=\u001B[39;49m\u001B[43mtimeout_obj\u001B[49m\u001B[43m,\u001B[49m\n\u001B[1;32m    796\u001B[0m \u001B[43m    \u001B[49m\u001B[43mbody\u001B[49m\u001B[38;5;241;43m=\u001B[39;49m\u001B[43mbody\u001B[49m\u001B[43m,\u001B[49m\n\u001B[1;32m    797\u001B[0m \u001B[43m    \u001B[49m\u001B[43mheaders\u001B[49m\u001B[38;5;241;43m=\u001B[39;49m\u001B[43mheaders\u001B[49m\u001B[43m,\u001B[49m\n\u001B[1;32m    798\u001B[0m \u001B[43m    \u001B[49m\u001B[43mchunked\u001B[49m\u001B[38;5;241;43m=\u001B[39;49m\u001B[43mchunked\u001B[49m\u001B[43m,\u001B[49m\n\u001B[1;32m    799\u001B[0m \u001B[43m    \u001B[49m\u001B[43mretries\u001B[49m\u001B[38;5;241;43m=\u001B[39;49m\u001B[43mretries\u001B[49m\u001B[43m,\u001B[49m\n\u001B[1;32m    800\u001B[0m \u001B[43m    \u001B[49m\u001B[43mresponse_conn\u001B[49m\u001B[38;5;241;43m=\u001B[39;49m\u001B[43mresponse_conn\u001B[49m\u001B[43m,\u001B[49m\n\u001B[1;32m    801\u001B[0m \u001B[43m    \u001B[49m\u001B[43mpreload_content\u001B[49m\u001B[38;5;241;43m=\u001B[39;49m\u001B[43mpreload_content\u001B[49m\u001B[43m,\u001B[49m\n\u001B[1;32m    802\u001B[0m \u001B[43m    \u001B[49m\u001B[43mdecode_content\u001B[49m\u001B[38;5;241;43m=\u001B[39;49m\u001B[43mdecode_content\u001B[49m\u001B[43m,\u001B[49m\n\u001B[1;32m    803\u001B[0m \u001B[43m    \u001B[49m\u001B[38;5;241;43m*\u001B[39;49m\u001B[38;5;241;43m*\u001B[39;49m\u001B[43mresponse_kw\u001B[49m\u001B[43m,\u001B[49m\n\u001B[1;32m    804\u001B[0m \u001B[43m\u001B[49m\u001B[43m)\u001B[49m\n\u001B[1;32m    806\u001B[0m \u001B[38;5;66;03m# Everything went great!\u001B[39;00m\n\u001B[1;32m    807\u001B[0m clean_exit \u001B[38;5;241m=\u001B[39m \u001B[38;5;28;01mTrue\u001B[39;00m\n",
      "File \u001B[0;32m~/anaconda3/lib/python3.11/site-packages/urllib3/connectionpool.py:468\u001B[0m, in \u001B[0;36mHTTPConnectionPool._make_request\u001B[0;34m(self, conn, method, url, body, headers, retries, timeout, chunked, response_conn, preload_content, decode_content, enforce_content_length)\u001B[0m\n\u001B[1;32m    465\u001B[0m \u001B[38;5;28;01mtry\u001B[39;00m:\n\u001B[1;32m    466\u001B[0m     \u001B[38;5;66;03m# Trigger any extra validation we need to do.\u001B[39;00m\n\u001B[1;32m    467\u001B[0m     \u001B[38;5;28;01mtry\u001B[39;00m:\n\u001B[0;32m--> 468\u001B[0m         \u001B[38;5;28;43mself\u001B[39;49m\u001B[38;5;241;43m.\u001B[39;49m\u001B[43m_validate_conn\u001B[49m\u001B[43m(\u001B[49m\u001B[43mconn\u001B[49m\u001B[43m)\u001B[49m\n\u001B[1;32m    469\u001B[0m     \u001B[38;5;28;01mexcept\u001B[39;00m (SocketTimeout, BaseSSLError) \u001B[38;5;28;01mas\u001B[39;00m e:\n\u001B[1;32m    470\u001B[0m         \u001B[38;5;28mself\u001B[39m\u001B[38;5;241m.\u001B[39m_raise_timeout(err\u001B[38;5;241m=\u001B[39me, url\u001B[38;5;241m=\u001B[39murl, timeout_value\u001B[38;5;241m=\u001B[39mconn\u001B[38;5;241m.\u001B[39mtimeout)\n",
      "File \u001B[0;32m~/anaconda3/lib/python3.11/site-packages/urllib3/connectionpool.py:1097\u001B[0m, in \u001B[0;36mHTTPSConnectionPool._validate_conn\u001B[0;34m(self, conn)\u001B[0m\n\u001B[1;32m   1095\u001B[0m \u001B[38;5;66;03m# Force connect early to allow us to validate the connection.\u001B[39;00m\n\u001B[1;32m   1096\u001B[0m \u001B[38;5;28;01mif\u001B[39;00m conn\u001B[38;5;241m.\u001B[39mis_closed:\n\u001B[0;32m-> 1097\u001B[0m     \u001B[43mconn\u001B[49m\u001B[38;5;241;43m.\u001B[39;49m\u001B[43mconnect\u001B[49m\u001B[43m(\u001B[49m\u001B[43m)\u001B[49m\n\u001B[1;32m   1099\u001B[0m \u001B[38;5;28;01mif\u001B[39;00m \u001B[38;5;129;01mnot\u001B[39;00m conn\u001B[38;5;241m.\u001B[39mis_verified:\n\u001B[1;32m   1100\u001B[0m     warnings\u001B[38;5;241m.\u001B[39mwarn(\n\u001B[1;32m   1101\u001B[0m         (\n\u001B[1;32m   1102\u001B[0m             \u001B[38;5;124mf\u001B[39m\u001B[38;5;124m\"\u001B[39m\u001B[38;5;124mUnverified HTTPS request is being made to host \u001B[39m\u001B[38;5;124m'\u001B[39m\u001B[38;5;132;01m{\u001B[39;00mconn\u001B[38;5;241m.\u001B[39mhost\u001B[38;5;132;01m}\u001B[39;00m\u001B[38;5;124m'\u001B[39m\u001B[38;5;124m. \u001B[39m\u001B[38;5;124m\"\u001B[39m\n\u001B[0;32m   (...)\u001B[0m\n\u001B[1;32m   1107\u001B[0m         InsecureRequestWarning,\n\u001B[1;32m   1108\u001B[0m     )\n",
      "File \u001B[0;32m~/anaconda3/lib/python3.11/site-packages/urllib3/connection.py:642\u001B[0m, in \u001B[0;36mHTTPSConnection.connect\u001B[0;34m(self)\u001B[0m\n\u001B[1;32m    633\u001B[0m \u001B[38;5;28;01mif\u001B[39;00m is_time_off:\n\u001B[1;32m    634\u001B[0m     warnings\u001B[38;5;241m.\u001B[39mwarn(\n\u001B[1;32m    635\u001B[0m         (\n\u001B[1;32m    636\u001B[0m             \u001B[38;5;124mf\u001B[39m\u001B[38;5;124m\"\u001B[39m\u001B[38;5;124mSystem time is way off (before \u001B[39m\u001B[38;5;132;01m{\u001B[39;00mRECENT_DATE\u001B[38;5;132;01m}\u001B[39;00m\u001B[38;5;124m). This will probably \u001B[39m\u001B[38;5;124m\"\u001B[39m\n\u001B[0;32m   (...)\u001B[0m\n\u001B[1;32m    639\u001B[0m         SystemTimeWarning,\n\u001B[1;32m    640\u001B[0m     )\n\u001B[0;32m--> 642\u001B[0m sock_and_verified \u001B[38;5;241m=\u001B[39m \u001B[43m_ssl_wrap_socket_and_match_hostname\u001B[49m\u001B[43m(\u001B[49m\n\u001B[1;32m    643\u001B[0m \u001B[43m    \u001B[49m\u001B[43msock\u001B[49m\u001B[38;5;241;43m=\u001B[39;49m\u001B[43msock\u001B[49m\u001B[43m,\u001B[49m\n\u001B[1;32m    644\u001B[0m \u001B[43m    \u001B[49m\u001B[43mcert_reqs\u001B[49m\u001B[38;5;241;43m=\u001B[39;49m\u001B[38;5;28;43mself\u001B[39;49m\u001B[38;5;241;43m.\u001B[39;49m\u001B[43mcert_reqs\u001B[49m\u001B[43m,\u001B[49m\n\u001B[1;32m    645\u001B[0m \u001B[43m    \u001B[49m\u001B[43mssl_version\u001B[49m\u001B[38;5;241;43m=\u001B[39;49m\u001B[38;5;28;43mself\u001B[39;49m\u001B[38;5;241;43m.\u001B[39;49m\u001B[43mssl_version\u001B[49m\u001B[43m,\u001B[49m\n\u001B[1;32m    646\u001B[0m \u001B[43m    \u001B[49m\u001B[43mssl_minimum_version\u001B[49m\u001B[38;5;241;43m=\u001B[39;49m\u001B[38;5;28;43mself\u001B[39;49m\u001B[38;5;241;43m.\u001B[39;49m\u001B[43mssl_minimum_version\u001B[49m\u001B[43m,\u001B[49m\n\u001B[1;32m    647\u001B[0m \u001B[43m    \u001B[49m\u001B[43mssl_maximum_version\u001B[49m\u001B[38;5;241;43m=\u001B[39;49m\u001B[38;5;28;43mself\u001B[39;49m\u001B[38;5;241;43m.\u001B[39;49m\u001B[43mssl_maximum_version\u001B[49m\u001B[43m,\u001B[49m\n\u001B[1;32m    648\u001B[0m \u001B[43m    \u001B[49m\u001B[43mca_certs\u001B[49m\u001B[38;5;241;43m=\u001B[39;49m\u001B[38;5;28;43mself\u001B[39;49m\u001B[38;5;241;43m.\u001B[39;49m\u001B[43mca_certs\u001B[49m\u001B[43m,\u001B[49m\n\u001B[1;32m    649\u001B[0m \u001B[43m    \u001B[49m\u001B[43mca_cert_dir\u001B[49m\u001B[38;5;241;43m=\u001B[39;49m\u001B[38;5;28;43mself\u001B[39;49m\u001B[38;5;241;43m.\u001B[39;49m\u001B[43mca_cert_dir\u001B[49m\u001B[43m,\u001B[49m\n\u001B[1;32m    650\u001B[0m \u001B[43m    \u001B[49m\u001B[43mca_cert_data\u001B[49m\u001B[38;5;241;43m=\u001B[39;49m\u001B[38;5;28;43mself\u001B[39;49m\u001B[38;5;241;43m.\u001B[39;49m\u001B[43mca_cert_data\u001B[49m\u001B[43m,\u001B[49m\n\u001B[1;32m    651\u001B[0m \u001B[43m    \u001B[49m\u001B[43mcert_file\u001B[49m\u001B[38;5;241;43m=\u001B[39;49m\u001B[38;5;28;43mself\u001B[39;49m\u001B[38;5;241;43m.\u001B[39;49m\u001B[43mcert_file\u001B[49m\u001B[43m,\u001B[49m\n\u001B[1;32m    652\u001B[0m \u001B[43m    \u001B[49m\u001B[43mkey_file\u001B[49m\u001B[38;5;241;43m=\u001B[39;49m\u001B[38;5;28;43mself\u001B[39;49m\u001B[38;5;241;43m.\u001B[39;49m\u001B[43mkey_file\u001B[49m\u001B[43m,\u001B[49m\n\u001B[1;32m    653\u001B[0m \u001B[43m    \u001B[49m\u001B[43mkey_password\u001B[49m\u001B[38;5;241;43m=\u001B[39;49m\u001B[38;5;28;43mself\u001B[39;49m\u001B[38;5;241;43m.\u001B[39;49m\u001B[43mkey_password\u001B[49m\u001B[43m,\u001B[49m\n\u001B[1;32m    654\u001B[0m \u001B[43m    \u001B[49m\u001B[43mserver_hostname\u001B[49m\u001B[38;5;241;43m=\u001B[39;49m\u001B[43mserver_hostname\u001B[49m\u001B[43m,\u001B[49m\n\u001B[1;32m    655\u001B[0m \u001B[43m    \u001B[49m\u001B[43mssl_context\u001B[49m\u001B[38;5;241;43m=\u001B[39;49m\u001B[38;5;28;43mself\u001B[39;49m\u001B[38;5;241;43m.\u001B[39;49m\u001B[43mssl_context\u001B[49m\u001B[43m,\u001B[49m\n\u001B[1;32m    656\u001B[0m \u001B[43m    \u001B[49m\u001B[43mtls_in_tls\u001B[49m\u001B[38;5;241;43m=\u001B[39;49m\u001B[43mtls_in_tls\u001B[49m\u001B[43m,\u001B[49m\n\u001B[1;32m    657\u001B[0m \u001B[43m    \u001B[49m\u001B[43massert_hostname\u001B[49m\u001B[38;5;241;43m=\u001B[39;49m\u001B[38;5;28;43mself\u001B[39;49m\u001B[38;5;241;43m.\u001B[39;49m\u001B[43massert_hostname\u001B[49m\u001B[43m,\u001B[49m\n\u001B[1;32m    658\u001B[0m \u001B[43m    \u001B[49m\u001B[43massert_fingerprint\u001B[49m\u001B[38;5;241;43m=\u001B[39;49m\u001B[38;5;28;43mself\u001B[39;49m\u001B[38;5;241;43m.\u001B[39;49m\u001B[43massert_fingerprint\u001B[49m\u001B[43m,\u001B[49m\n\u001B[1;32m    659\u001B[0m \u001B[43m\u001B[49m\u001B[43m)\u001B[49m\n\u001B[1;32m    660\u001B[0m \u001B[38;5;28mself\u001B[39m\u001B[38;5;241m.\u001B[39msock \u001B[38;5;241m=\u001B[39m sock_and_verified\u001B[38;5;241m.\u001B[39msocket\n\u001B[1;32m    661\u001B[0m \u001B[38;5;28mself\u001B[39m\u001B[38;5;241m.\u001B[39mis_verified \u001B[38;5;241m=\u001B[39m sock_and_verified\u001B[38;5;241m.\u001B[39mis_verified\n",
      "File \u001B[0;32m~/anaconda3/lib/python3.11/site-packages/urllib3/connection.py:783\u001B[0m, in \u001B[0;36m_ssl_wrap_socket_and_match_hostname\u001B[0;34m(sock, cert_reqs, ssl_version, ssl_minimum_version, ssl_maximum_version, cert_file, key_file, key_password, ca_certs, ca_cert_dir, ca_cert_data, assert_hostname, assert_fingerprint, server_hostname, ssl_context, tls_in_tls)\u001B[0m\n\u001B[1;32m    780\u001B[0m     \u001B[38;5;28;01mif\u001B[39;00m is_ipaddress(normalized):\n\u001B[1;32m    781\u001B[0m         server_hostname \u001B[38;5;241m=\u001B[39m normalized\n\u001B[0;32m--> 783\u001B[0m ssl_sock \u001B[38;5;241m=\u001B[39m \u001B[43mssl_wrap_socket\u001B[49m\u001B[43m(\u001B[49m\n\u001B[1;32m    784\u001B[0m \u001B[43m    \u001B[49m\u001B[43msock\u001B[49m\u001B[38;5;241;43m=\u001B[39;49m\u001B[43msock\u001B[49m\u001B[43m,\u001B[49m\n\u001B[1;32m    785\u001B[0m \u001B[43m    \u001B[49m\u001B[43mkeyfile\u001B[49m\u001B[38;5;241;43m=\u001B[39;49m\u001B[43mkey_file\u001B[49m\u001B[43m,\u001B[49m\n\u001B[1;32m    786\u001B[0m \u001B[43m    \u001B[49m\u001B[43mcertfile\u001B[49m\u001B[38;5;241;43m=\u001B[39;49m\u001B[43mcert_file\u001B[49m\u001B[43m,\u001B[49m\n\u001B[1;32m    787\u001B[0m \u001B[43m    \u001B[49m\u001B[43mkey_password\u001B[49m\u001B[38;5;241;43m=\u001B[39;49m\u001B[43mkey_password\u001B[49m\u001B[43m,\u001B[49m\n\u001B[1;32m    788\u001B[0m \u001B[43m    \u001B[49m\u001B[43mca_certs\u001B[49m\u001B[38;5;241;43m=\u001B[39;49m\u001B[43mca_certs\u001B[49m\u001B[43m,\u001B[49m\n\u001B[1;32m    789\u001B[0m \u001B[43m    \u001B[49m\u001B[43mca_cert_dir\u001B[49m\u001B[38;5;241;43m=\u001B[39;49m\u001B[43mca_cert_dir\u001B[49m\u001B[43m,\u001B[49m\n\u001B[1;32m    790\u001B[0m \u001B[43m    \u001B[49m\u001B[43mca_cert_data\u001B[49m\u001B[38;5;241;43m=\u001B[39;49m\u001B[43mca_cert_data\u001B[49m\u001B[43m,\u001B[49m\n\u001B[1;32m    791\u001B[0m \u001B[43m    \u001B[49m\u001B[43mserver_hostname\u001B[49m\u001B[38;5;241;43m=\u001B[39;49m\u001B[43mserver_hostname\u001B[49m\u001B[43m,\u001B[49m\n\u001B[1;32m    792\u001B[0m \u001B[43m    \u001B[49m\u001B[43mssl_context\u001B[49m\u001B[38;5;241;43m=\u001B[39;49m\u001B[43mcontext\u001B[49m\u001B[43m,\u001B[49m\n\u001B[1;32m    793\u001B[0m \u001B[43m    \u001B[49m\u001B[43mtls_in_tls\u001B[49m\u001B[38;5;241;43m=\u001B[39;49m\u001B[43mtls_in_tls\u001B[49m\u001B[43m,\u001B[49m\n\u001B[1;32m    794\u001B[0m \u001B[43m\u001B[49m\u001B[43m)\u001B[49m\n\u001B[1;32m    796\u001B[0m \u001B[38;5;28;01mtry\u001B[39;00m:\n\u001B[1;32m    797\u001B[0m     \u001B[38;5;28;01mif\u001B[39;00m assert_fingerprint:\n",
      "File \u001B[0;32m~/anaconda3/lib/python3.11/site-packages/urllib3/util/ssl_.py:471\u001B[0m, in \u001B[0;36mssl_wrap_socket\u001B[0;34m(sock, keyfile, certfile, cert_reqs, ca_certs, server_hostname, ssl_version, ciphers, ssl_context, ca_cert_dir, key_password, ca_cert_data, tls_in_tls)\u001B[0m\n\u001B[1;32m    468\u001B[0m \u001B[38;5;28;01mexcept\u001B[39;00m \u001B[38;5;167;01mNotImplementedError\u001B[39;00m:  \u001B[38;5;66;03m# Defensive: in CI, we always have set_alpn_protocols\u001B[39;00m\n\u001B[1;32m    469\u001B[0m     \u001B[38;5;28;01mpass\u001B[39;00m\n\u001B[0;32m--> 471\u001B[0m ssl_sock \u001B[38;5;241m=\u001B[39m \u001B[43m_ssl_wrap_socket_impl\u001B[49m\u001B[43m(\u001B[49m\u001B[43msock\u001B[49m\u001B[43m,\u001B[49m\u001B[43m \u001B[49m\u001B[43mcontext\u001B[49m\u001B[43m,\u001B[49m\u001B[43m \u001B[49m\u001B[43mtls_in_tls\u001B[49m\u001B[43m,\u001B[49m\u001B[43m \u001B[49m\u001B[43mserver_hostname\u001B[49m\u001B[43m)\u001B[49m\n\u001B[1;32m    472\u001B[0m \u001B[38;5;28;01mreturn\u001B[39;00m ssl_sock\n",
      "File \u001B[0;32m~/anaconda3/lib/python3.11/site-packages/urllib3/util/ssl_.py:515\u001B[0m, in \u001B[0;36m_ssl_wrap_socket_impl\u001B[0;34m(sock, ssl_context, tls_in_tls, server_hostname)\u001B[0m\n\u001B[1;32m    512\u001B[0m     SSLTransport\u001B[38;5;241m.\u001B[39m_validate_ssl_context_for_tls_in_tls(ssl_context)\n\u001B[1;32m    513\u001B[0m     \u001B[38;5;28;01mreturn\u001B[39;00m SSLTransport(sock, ssl_context, server_hostname)\n\u001B[0;32m--> 515\u001B[0m \u001B[38;5;28;01mreturn\u001B[39;00m \u001B[43mssl_context\u001B[49m\u001B[38;5;241;43m.\u001B[39;49m\u001B[43mwrap_socket\u001B[49m\u001B[43m(\u001B[49m\u001B[43msock\u001B[49m\u001B[43m,\u001B[49m\u001B[43m \u001B[49m\u001B[43mserver_hostname\u001B[49m\u001B[38;5;241;43m=\u001B[39;49m\u001B[43mserver_hostname\u001B[49m\u001B[43m)\u001B[49m\n",
      "File \u001B[0;32m~/anaconda3/lib/python3.11/ssl.py:517\u001B[0m, in \u001B[0;36mSSLContext.wrap_socket\u001B[0;34m(self, sock, server_side, do_handshake_on_connect, suppress_ragged_eofs, server_hostname, session)\u001B[0m\n\u001B[1;32m    511\u001B[0m \u001B[38;5;28;01mdef\u001B[39;00m \u001B[38;5;21mwrap_socket\u001B[39m(\u001B[38;5;28mself\u001B[39m, sock, server_side\u001B[38;5;241m=\u001B[39m\u001B[38;5;28;01mFalse\u001B[39;00m,\n\u001B[1;32m    512\u001B[0m                 do_handshake_on_connect\u001B[38;5;241m=\u001B[39m\u001B[38;5;28;01mTrue\u001B[39;00m,\n\u001B[1;32m    513\u001B[0m                 suppress_ragged_eofs\u001B[38;5;241m=\u001B[39m\u001B[38;5;28;01mTrue\u001B[39;00m,\n\u001B[1;32m    514\u001B[0m                 server_hostname\u001B[38;5;241m=\u001B[39m\u001B[38;5;28;01mNone\u001B[39;00m, session\u001B[38;5;241m=\u001B[39m\u001B[38;5;28;01mNone\u001B[39;00m):\n\u001B[1;32m    515\u001B[0m     \u001B[38;5;66;03m# SSLSocket class handles server_hostname encoding before it calls\u001B[39;00m\n\u001B[1;32m    516\u001B[0m     \u001B[38;5;66;03m# ctx._wrap_socket()\u001B[39;00m\n\u001B[0;32m--> 517\u001B[0m     \u001B[38;5;28;01mreturn\u001B[39;00m \u001B[38;5;28;43mself\u001B[39;49m\u001B[38;5;241;43m.\u001B[39;49m\u001B[43msslsocket_class\u001B[49m\u001B[38;5;241;43m.\u001B[39;49m\u001B[43m_create\u001B[49m\u001B[43m(\u001B[49m\n\u001B[1;32m    518\u001B[0m \u001B[43m        \u001B[49m\u001B[43msock\u001B[49m\u001B[38;5;241;43m=\u001B[39;49m\u001B[43msock\u001B[49m\u001B[43m,\u001B[49m\n\u001B[1;32m    519\u001B[0m \u001B[43m        \u001B[49m\u001B[43mserver_side\u001B[49m\u001B[38;5;241;43m=\u001B[39;49m\u001B[43mserver_side\u001B[49m\u001B[43m,\u001B[49m\n\u001B[1;32m    520\u001B[0m \u001B[43m        \u001B[49m\u001B[43mdo_handshake_on_connect\u001B[49m\u001B[38;5;241;43m=\u001B[39;49m\u001B[43mdo_handshake_on_connect\u001B[49m\u001B[43m,\u001B[49m\n\u001B[1;32m    521\u001B[0m \u001B[43m        \u001B[49m\u001B[43msuppress_ragged_eofs\u001B[49m\u001B[38;5;241;43m=\u001B[39;49m\u001B[43msuppress_ragged_eofs\u001B[49m\u001B[43m,\u001B[49m\n\u001B[1;32m    522\u001B[0m \u001B[43m        \u001B[49m\u001B[43mserver_hostname\u001B[49m\u001B[38;5;241;43m=\u001B[39;49m\u001B[43mserver_hostname\u001B[49m\u001B[43m,\u001B[49m\n\u001B[1;32m    523\u001B[0m \u001B[43m        \u001B[49m\u001B[43mcontext\u001B[49m\u001B[38;5;241;43m=\u001B[39;49m\u001B[38;5;28;43mself\u001B[39;49m\u001B[43m,\u001B[49m\n\u001B[1;32m    524\u001B[0m \u001B[43m        \u001B[49m\u001B[43msession\u001B[49m\u001B[38;5;241;43m=\u001B[39;49m\u001B[43msession\u001B[49m\n\u001B[1;32m    525\u001B[0m \u001B[43m    \u001B[49m\u001B[43m)\u001B[49m\n",
      "File \u001B[0;32m~/anaconda3/lib/python3.11/ssl.py:1104\u001B[0m, in \u001B[0;36mSSLSocket._create\u001B[0;34m(cls, sock, server_side, do_handshake_on_connect, suppress_ragged_eofs, server_hostname, context, session)\u001B[0m\n\u001B[1;32m   1101\u001B[0m             \u001B[38;5;28;01mif\u001B[39;00m timeout \u001B[38;5;241m==\u001B[39m \u001B[38;5;241m0.0\u001B[39m:\n\u001B[1;32m   1102\u001B[0m                 \u001B[38;5;66;03m# non-blocking\u001B[39;00m\n\u001B[1;32m   1103\u001B[0m                 \u001B[38;5;28;01mraise\u001B[39;00m \u001B[38;5;167;01mValueError\u001B[39;00m(\u001B[38;5;124m\"\u001B[39m\u001B[38;5;124mdo_handshake_on_connect should not be specified for non-blocking sockets\u001B[39m\u001B[38;5;124m\"\u001B[39m)\n\u001B[0;32m-> 1104\u001B[0m             \u001B[38;5;28;43mself\u001B[39;49m\u001B[38;5;241;43m.\u001B[39;49m\u001B[43mdo_handshake\u001B[49m\u001B[43m(\u001B[49m\u001B[43m)\u001B[49m\n\u001B[1;32m   1105\u001B[0m \u001B[38;5;28;01mexcept\u001B[39;00m:\n\u001B[1;32m   1106\u001B[0m     \u001B[38;5;28;01mtry\u001B[39;00m:\n",
      "File \u001B[0;32m~/anaconda3/lib/python3.11/ssl.py:1382\u001B[0m, in \u001B[0;36mSSLSocket.do_handshake\u001B[0;34m(self, block)\u001B[0m\n\u001B[1;32m   1380\u001B[0m     \u001B[38;5;28;01mif\u001B[39;00m timeout \u001B[38;5;241m==\u001B[39m \u001B[38;5;241m0.0\u001B[39m \u001B[38;5;129;01mand\u001B[39;00m block:\n\u001B[1;32m   1381\u001B[0m         \u001B[38;5;28mself\u001B[39m\u001B[38;5;241m.\u001B[39msettimeout(\u001B[38;5;28;01mNone\u001B[39;00m)\n\u001B[0;32m-> 1382\u001B[0m     \u001B[38;5;28;43mself\u001B[39;49m\u001B[38;5;241;43m.\u001B[39;49m\u001B[43m_sslobj\u001B[49m\u001B[38;5;241;43m.\u001B[39;49m\u001B[43mdo_handshake\u001B[49m\u001B[43m(\u001B[49m\u001B[43m)\u001B[49m\n\u001B[1;32m   1383\u001B[0m \u001B[38;5;28;01mfinally\u001B[39;00m:\n\u001B[1;32m   1384\u001B[0m     \u001B[38;5;28mself\u001B[39m\u001B[38;5;241m.\u001B[39msettimeout(timeout)\n",
      "\u001B[0;31mKeyboardInterrupt\u001B[0m: "
     ]
    }
   ],
   "source": [
    "import requests\n",
    "import json\n",
    "import pandas as pd\n",
    "\n",
    "# Ripple API endpoint\n",
    "url = \"https://clio.altnet.rippletest.net:51234/\"  # Alternative Ripple server\n",
    "\n",
    "# First, get the latest validated ledger index\n",
    "initial_payload = {\n",
    "    \"method\": \"ledger_current\",\n",
    "    \"params\": [{}]\n",
    "}\n",
    "\n",
    "# Send the request to get the latest validated ledger\n",
    "response = requests.post(url, json=initial_payload)\n",
    "latest_ledger_index = response.json().get(\"result\", {}).get(\"ledger_current_index\")\n",
    "\n",
    "# Define the number of ledgers to retrieve\n",
    "num_ledgers = 20\n",
    "\n",
    "# Initialize list to store ledger data\n",
    "ledger_data = []\n",
    "\n",
    "# For loop to retrieve information for the last 3 ledgers\n",
    "for i in range(num_ledgers):\n",
    "    ledger_index = str(int(latest_ledger_index) - i)  # Move backwards in the ledger sequence\n",
    "    print(f\"Retrieving Ledger Index: {ledger_index}\")\n",
    "\n",
    "    # Create JSON request payload for the ledger\n",
    "    payload = {\n",
    "        \"method\": \"ledger\",\n",
    "        \"params\": [\n",
    "            {\n",
    "                \"ledger_index\": ledger_index,\n",
    "                \"transactions\": True,\n",
    "                \"expand\": True\n",
    "            }\n",
    "        ]\n",
    "    }\n",
    "\n",
    "    # Send the request\n",
    "    response = requests.post(url, json=payload)\n",
    "\n",
    "    # Process the response\n",
    "    try:\n",
    "        response_json = response.json()  # Try to load the response as JSON\n",
    "        ledger_info = response_json.get(\"result\", {}).get(\"ledger\", {})\n",
    "\n",
    "        # Extract information for each transaction in the ledger\n",
    "        if \"transactions\" in ledger_info:\n",
    "            for tx in ledger_info[\"transactions\"]:\n",
    "                ledger_data.append({\n",
    "                    \"LedgerSequence\": ledger_info.get(\"ledger_index\"),\n",
    "                    \"CloseTime\": ledger_info.get(\"close_time_human\"),\n",
    "                    \"TransactionType\": tx.get(\"TransactionType\"),\n",
    "                    \"Account\": tx.get(\"Account\"),\n",
    "                    \"Fee\": tx.get(\"Fee\"),\n",
    "                    \"TransactionResult\": tx.get(\"meta\", {}).get(\"TransactionResult\"),\n",
    "                    \"TakerGets\": tx.get(\"TakerGets\"),\n",
    "                    \"TakerPays\": tx.get(\"TakerPays\"),\n",
    "                    \"Issuer\": tx.get(\"TakerPays\", {}).get(\"issuer\") if isinstance(tx.get(\"TakerPays\"), dict) else None,\n",
    "                    \"Currency\": tx.get(\"TakerPays\", {}).get(\"currency\") if isinstance(tx.get(\"TakerPays\"), dict) else None,\n",
    "                    \"Sequence\": tx.get(\"Sequence\"),\n",
    "                    \"OfferSequence\": tx.get(\"OfferSequence\"),\n",
    "                    \"OwnerCount\": tx.get(\"OwnerCount\"),\n",
    "                    \"Flags\": tx.get(\"Flags\")\n",
    "                })\n",
    "\n",
    "    except json.JSONDecodeError:\n",
    "        print(f\"Error: The response for ledger {ledger_index} is not a valid JSON.\")\n",
    "        print(\"Raw response from server:\")\n",
    "        print(response.text)\n",
    "\n",
    "# Convert the collected data to a pandas DataFrame\n",
    "df = pd.DataFrame(ledger_data)"
   ],
   "metadata": {
    "collapsed": false,
    "ExecuteTime": {
     "end_time": "2024-09-07T15:34:36.505160Z",
     "start_time": "2024-09-07T15:33:33.990154Z"
    }
   },
   "id": "c69f1ff0d1f319e9",
   "execution_count": 5
  },
  {
   "cell_type": "code",
   "outputs": [
    {
     "name": "stdout",
     "output_type": "stream",
     "text": [
      "Retrieving Ledger Index: 523854\n",
      "Retrieving Ledger Index: 523853\n",
      "Retrieving Ledger Index: 523852\n",
      "Retrieving Ledger Index: 523851\n",
      "Retrieving Ledger Index: 523850\n",
      "Retrieving Ledger Index: 523849\n",
      "Retrieving Ledger Index: 523848\n",
      "Retrieving Ledger Index: 523847\n",
      "Retrieving Ledger Index: 523846\n",
      "Retrieving Ledger Index: 523845\n",
      "  LedgerSequence                           CloseTime TransactionType  \\\n",
      "0         523853  2024-Sep-07 15:39:51.000000000 UTC     NFTokenMint   \n",
      "1         523853  2024-Sep-07 15:39:51.000000000 UTC     NFTokenMint   \n",
      "2         523853  2024-Sep-07 15:39:51.000000000 UTC     NFTokenMint   \n",
      "3         523853  2024-Sep-07 15:39:51.000000000 UTC         Payment   \n",
      "4         523854                                None     NFTokenMint   \n",
      "\n",
      "                              Account Fee TransactionResult TakerGets  \\\n",
      "0  rpU143xqysrXDNseSmpLTwNaN3vf4mCJMG  10              None      None   \n",
      "1  rpU143xqysrXDNseSmpLTwNaN3vf4mCJMG  10              None      None   \n",
      "2  rpU143xqysrXDNseSmpLTwNaN3vf4mCJMG  10              None      None   \n",
      "3  rPT1Sjq2YGrBMTttX4GZHjKu9dyfzbpAYe  12              None      None   \n",
      "4  rpU143xqysrXDNseSmpLTwNaN3vf4mCJMG  10              None      None   \n",
      "\n",
      "  TakerPays Issuer Currency  Sequence OfferSequence OwnerCount  Flags  \n",
      "0      None   None     None   1461106          None       None      8  \n",
      "1      None   None     None   1461107          None       None      8  \n",
      "2      None   None     None   1461108          None       None      8  \n",
      "3      None   None     None         0          None       None      0  \n",
      "4      None   None     None   1461114          None       None      8  \n"
     ]
    }
   ],
   "source": [
    "import requests\n",
    "import json\n",
    "import pandas as pd\n",
    "import concurrent.futures\n",
    "\n",
    "# Ripple API endpoint\n",
    "url = \"https://testnet.xrpl-labs.com/\"  # Alternative Ripple server\n",
    "\n",
    "# First, get the latest validated ledger index\n",
    "initial_payload = {\n",
    "    \"method\": \"ledger_current\",\n",
    "    \"params\": [{}]\n",
    "}\n",
    "\n",
    "# Send the request to get the latest validated ledger\n",
    "response = requests.post(url, json=initial_payload)\n",
    "latest_ledger_index = response.json().get(\"result\", {}).get(\"ledger_current_index\")\n",
    "\n",
    "# Define the number of ledgers to retrieve\n",
    "num_ledgers = 10\n",
    "\n",
    "# Initialize list to store ledger data\n",
    "ledger_data = []\n",
    "\n",
    "# Function to retrieve ledger information\n",
    "def get_ledger_data(ledger_index):\n",
    "    print(f\"Retrieving Ledger Index: {ledger_index}\")\n",
    "\n",
    "    payload = {\n",
    "        \"method\": \"ledger\",\n",
    "        \"params\": [\n",
    "            {\n",
    "                \"ledger_index\": ledger_index,\n",
    "                \"transactions\": True,\n",
    "                \"expand\": True\n",
    "            }\n",
    "        ]\n",
    "    }\n",
    "\n",
    "    response = requests.post(url, json=payload)\n",
    "\n",
    "    try:\n",
    "        response_json = response.json()  # Try to load the response as JSON\n",
    "        ledger_info = response_json.get(\"result\", {}).get(\"ledger\", {})\n",
    "        data = []\n",
    "\n",
    "        # Extract information for each transaction in the ledger\n",
    "        if \"transactions\" in ledger_info:\n",
    "            for tx in ledger_info[\"transactions\"]:\n",
    "                data.append({\n",
    "                    \"LedgerSequence\": ledger_info.get(\"ledger_index\"),\n",
    "                    \"CloseTime\": ledger_info.get(\"close_time_human\"),\n",
    "                    \"TransactionType\": tx.get(\"TransactionType\"),\n",
    "                    \"Account\": tx.get(\"Account\"),\n",
    "                    \"Fee\": tx.get(\"Fee\"),\n",
    "                    \"TransactionResult\": tx.get(\"meta\", {}).get(\"TransactionResult\"),\n",
    "                    \"TakerGets\": tx.get(\"TakerGets\"),\n",
    "                    \"TakerPays\": tx.get(\"TakerPays\"),\n",
    "                    \"Issuer\": tx.get(\"TakerPays\", {}).get(\"issuer\") if isinstance(tx.get(\"TakerPays\"), dict) else None,\n",
    "                    \"Currency\": tx.get(\"TakerPays\", {}).get(\"currency\") if isinstance(tx.get(\"TakerPays\"), dict) else None,\n",
    "                    \"Sequence\": tx.get(\"Sequence\"),\n",
    "                    \"OfferSequence\": tx.get(\"OfferSequence\"),\n",
    "                    \"OwnerCount\": tx.get(\"OwnerCount\"),\n",
    "                    \"Flags\": tx.get(\"Flags\")\n",
    "                })\n",
    "        return data\n",
    "\n",
    "    except json.JSONDecodeError:\n",
    "        print(f\"Error: The response for ledger {ledger_index} is not a valid JSON.\")\n",
    "        print(\"Raw response from server:\")\n",
    "        print(response.text)\n",
    "        return []\n",
    "\n",
    "# Use ThreadPoolExecutor to parallelize ledger retrieval\n",
    "with concurrent.futures.ThreadPoolExecutor() as executor:\n",
    "    futures = [executor.submit(get_ledger_data, str(int(latest_ledger_index) - i)) for i in range(num_ledgers)]\n",
    "\n",
    "    # Collect results as they complete\n",
    "    for future in concurrent.futures.as_completed(futures):\n",
    "        ledger_data.extend(future.result())  # Add the results to the ledger_data list\n",
    "\n",
    "# Convert the collected data to a pandas DataFrame\n",
    "df = pd.DataFrame(ledger_data)\n",
    "print(df.head())\n"
   ],
   "metadata": {
    "collapsed": false,
    "ExecuteTime": {
     "end_time": "2024-09-07T15:39:55.368206Z",
     "start_time": "2024-09-07T15:39:54.853015Z"
    }
   },
   "id": "ac569126122659e2",
   "execution_count": 9
  },
  {
   "cell_type": "code",
   "outputs": [
    {
     "data": {
      "text/plain": "   LedgerSequence                           CloseTime TransactionType  \\\n0          523853  2024-Sep-07 15:39:51.000000000 UTC     NFTokenMint   \n1          523853  2024-Sep-07 15:39:51.000000000 UTC     NFTokenMint   \n2          523853  2024-Sep-07 15:39:51.000000000 UTC     NFTokenMint   \n3          523853  2024-Sep-07 15:39:51.000000000 UTC         Payment   \n4          523854                                None     NFTokenMint   \n5          523854                                None     NFTokenMint   \n6          523854                                None     NFTokenMint   \n7          523854                                None     NFTokenMint   \n8          523854                                None     NFTokenMint   \n9          523854                                None     NFTokenMint   \n10         523846  2024-Sep-07 15:39:30.000000000 UTC     NFTokenMint   \n11         523846  2024-Sep-07 15:39:30.000000000 UTC     NFTokenMint   \n12         523846  2024-Sep-07 15:39:30.000000000 UTC     NFTokenMint   \n13         523846  2024-Sep-07 15:39:30.000000000 UTC     NFTokenMint   \n14         523846  2024-Sep-07 15:39:30.000000000 UTC         Payment   \n15         523848  2024-Sep-07 15:39:32.000000000 UTC     NFTokenMint   \n16         523848  2024-Sep-07 15:39:32.000000000 UTC     NFTokenMint   \n17         523848  2024-Sep-07 15:39:32.000000000 UTC     NFTokenMint   \n18         523849  2024-Sep-07 15:39:40.000000000 UTC     NFTokenMint   \n19         523849  2024-Sep-07 15:39:40.000000000 UTC     NFTokenMint   \n20         523849  2024-Sep-07 15:39:40.000000000 UTC     NFTokenMint   \n21         523849  2024-Sep-07 15:39:40.000000000 UTC     NFTokenMint   \n22         523851  2024-Sep-07 15:39:42.000000000 UTC     NFTokenMint   \n23         523851  2024-Sep-07 15:39:42.000000000 UTC     NFTokenMint   \n24         523851  2024-Sep-07 15:39:42.000000000 UTC     NFTokenMint   \n25         523851  2024-Sep-07 15:39:42.000000000 UTC     NFTokenMint   \n26         523852  2024-Sep-07 15:39:50.000000000 UTC     NFTokenMint   \n27         523852  2024-Sep-07 15:39:50.000000000 UTC     NFTokenMint   \n28         523852  2024-Sep-07 15:39:50.000000000 UTC     NFTokenMint   \n29         523852  2024-Sep-07 15:39:50.000000000 UTC     NFTokenMint   \n30         523852  2024-Sep-07 15:39:50.000000000 UTC     NFTokenMint   \n31         523850  2024-Sep-07 15:39:41.000000000 UTC     NFTokenMint   \n32         523850  2024-Sep-07 15:39:41.000000000 UTC     NFTokenMint   \n33         523850  2024-Sep-07 15:39:41.000000000 UTC         Payment   \n34         523850  2024-Sep-07 15:39:41.000000000 UTC     NFTokenMint   \n35         523845  2024-Sep-07 15:39:22.000000000 UTC     NFTokenMint   \n36         523845  2024-Sep-07 15:39:22.000000000 UTC     NFTokenMint   \n37         523845  2024-Sep-07 15:39:22.000000000 UTC     NFTokenMint   \n38         523847  2024-Sep-07 15:39:31.000000000 UTC     NFTokenMint   \n39         523847  2024-Sep-07 15:39:31.000000000 UTC     NFTokenMint   \n40         523847  2024-Sep-07 15:39:31.000000000 UTC     NFTokenMint   \n41         523847  2024-Sep-07 15:39:31.000000000 UTC     NFTokenMint   \n42         523847  2024-Sep-07 15:39:31.000000000 UTC     NFTokenMint   \n\n                               Account Fee TransactionResult TakerGets  \\\n0   rpU143xqysrXDNseSmpLTwNaN3vf4mCJMG  10              None      None   \n1   rpU143xqysrXDNseSmpLTwNaN3vf4mCJMG  10              None      None   \n2   rpU143xqysrXDNseSmpLTwNaN3vf4mCJMG  10              None      None   \n3   rPT1Sjq2YGrBMTttX4GZHjKu9dyfzbpAYe  12              None      None   \n4   rpU143xqysrXDNseSmpLTwNaN3vf4mCJMG  10              None      None   \n5   rpU143xqysrXDNseSmpLTwNaN3vf4mCJMG  10              None      None   \n6   rpU143xqysrXDNseSmpLTwNaN3vf4mCJMG  10              None      None   \n7   rpU143xqysrXDNseSmpLTwNaN3vf4mCJMG  10              None      None   \n8   rpU143xqysrXDNseSmpLTwNaN3vf4mCJMG  10              None      None   \n9   rpU143xqysrXDNseSmpLTwNaN3vf4mCJMG  10              None      None   \n10  rpU143xqysrXDNseSmpLTwNaN3vf4mCJMG  10              None      None   \n11  rpU143xqysrXDNseSmpLTwNaN3vf4mCJMG  10              None      None   \n12  rpU143xqysrXDNseSmpLTwNaN3vf4mCJMG  10              None      None   \n13  rpU143xqysrXDNseSmpLTwNaN3vf4mCJMG  10              None      None   \n14  rPT1Sjq2YGrBMTttX4GZHjKu9dyfzbpAYe  12              None      None   \n15  rpU143xqysrXDNseSmpLTwNaN3vf4mCJMG  10              None      None   \n16  rpU143xqysrXDNseSmpLTwNaN3vf4mCJMG  10              None      None   \n17  rpU143xqysrXDNseSmpLTwNaN3vf4mCJMG  10              None      None   \n18  rpU143xqysrXDNseSmpLTwNaN3vf4mCJMG  10              None      None   \n19  rpU143xqysrXDNseSmpLTwNaN3vf4mCJMG  10              None      None   \n20  rpU143xqysrXDNseSmpLTwNaN3vf4mCJMG  10              None      None   \n21  rpU143xqysrXDNseSmpLTwNaN3vf4mCJMG  10              None      None   \n22  rpU143xqysrXDNseSmpLTwNaN3vf4mCJMG  10              None      None   \n23  rpU143xqysrXDNseSmpLTwNaN3vf4mCJMG  10              None      None   \n24  rpU143xqysrXDNseSmpLTwNaN3vf4mCJMG  10              None      None   \n25  rpU143xqysrXDNseSmpLTwNaN3vf4mCJMG  10              None      None   \n26  rpU143xqysrXDNseSmpLTwNaN3vf4mCJMG  10              None      None   \n27  rpU143xqysrXDNseSmpLTwNaN3vf4mCJMG  10              None      None   \n28  rpU143xqysrXDNseSmpLTwNaN3vf4mCJMG  10              None      None   \n29  rpU143xqysrXDNseSmpLTwNaN3vf4mCJMG  10              None      None   \n30  rpU143xqysrXDNseSmpLTwNaN3vf4mCJMG  10              None      None   \n31  rpU143xqysrXDNseSmpLTwNaN3vf4mCJMG  10              None      None   \n32  rpU143xqysrXDNseSmpLTwNaN3vf4mCJMG  10              None      None   \n33  rPT1Sjq2YGrBMTttX4GZHjKu9dyfzbpAYe  12              None      None   \n34  rpU143xqysrXDNseSmpLTwNaN3vf4mCJMG  10              None      None   \n35  rpU143xqysrXDNseSmpLTwNaN3vf4mCJMG  10              None      None   \n36  rpU143xqysrXDNseSmpLTwNaN3vf4mCJMG  10              None      None   \n37  rpU143xqysrXDNseSmpLTwNaN3vf4mCJMG  10              None      None   \n38  rpU143xqysrXDNseSmpLTwNaN3vf4mCJMG  10              None      None   \n39  rpU143xqysrXDNseSmpLTwNaN3vf4mCJMG  10              None      None   \n40  rpU143xqysrXDNseSmpLTwNaN3vf4mCJMG  10              None      None   \n41  rpU143xqysrXDNseSmpLTwNaN3vf4mCJMG  10              None      None   \n42  rpU143xqysrXDNseSmpLTwNaN3vf4mCJMG  10              None      None   \n\n   TakerPays Issuer Currency  Sequence OfferSequence OwnerCount  Flags  \n0       None   None     None   1461106          None       None      8  \n1       None   None     None   1461107          None       None      8  \n2       None   None     None   1461108          None       None      8  \n3       None   None     None         0          None       None      0  \n4       None   None     None   1461114          None       None      8  \n5       None   None     None   1461109          None       None      8  \n6       None   None     None   1461113          None       None      8  \n7       None   None     None   1461110          None       None      8  \n8       None   None     None   1461111          None       None      8  \n9       None   None     None   1461112          None       None      8  \n10      None   None     None   1461080          None       None      8  \n11      None   None     None   1461079          None       None      8  \n12      None   None     None   1461078          None       None      8  \n13      None   None     None   1461081          None       None      8  \n14      None   None     None         0          None       None      0  \n15      None   None     None   1461089          None       None      8  \n16      None   None     None   1461087          None       None      8  \n17      None   None     None   1461088          None       None      8  \n18      None   None     None   1461092          None       None      8  \n19      None   None     None   1461093          None       None      8  \n20      None   None     None   1461090          None       None      8  \n21      None   None     None   1461091          None       None      8  \n22      None   None     None   1461099          None       None      8  \n23      None   None     None   1461098          None       None      8  \n24      None   None     None   1461100          None       None      8  \n25      None   None     None   1461097          None       None      8  \n26      None   None     None   1461103          None       None      8  \n27      None   None     None   1461101          None       None      8  \n28      None   None     None   1461102          None       None      8  \n29      None   None     None   1461104          None       None      8  \n30      None   None     None   1461105          None       None      8  \n31      None   None     None   1461095          None       None      8  \n32      None   None     None   1461096          None       None      8  \n33      None   None     None         0          None       None      0  \n34      None   None     None   1461094          None       None      8  \n35      None   None     None   1461076          None       None      8  \n36      None   None     None   1461077          None       None      8  \n37      None   None     None   1461075          None       None      8  \n38      None   None     None   1461082          None       None      8  \n39      None   None     None   1461085          None       None      8  \n40      None   None     None   1461083          None       None      8  \n41      None   None     None   1461086          None       None      8  \n42      None   None     None   1461084          None       None      8  ",
      "text/html": "<div>\n<style scoped>\n    .dataframe tbody tr th:only-of-type {\n        vertical-align: middle;\n    }\n\n    .dataframe tbody tr th {\n        vertical-align: top;\n    }\n\n    .dataframe thead th {\n        text-align: right;\n    }\n</style>\n<table border=\"1\" class=\"dataframe\">\n  <thead>\n    <tr style=\"text-align: right;\">\n      <th></th>\n      <th>LedgerSequence</th>\n      <th>CloseTime</th>\n      <th>TransactionType</th>\n      <th>Account</th>\n      <th>Fee</th>\n      <th>TransactionResult</th>\n      <th>TakerGets</th>\n      <th>TakerPays</th>\n      <th>Issuer</th>\n      <th>Currency</th>\n      <th>Sequence</th>\n      <th>OfferSequence</th>\n      <th>OwnerCount</th>\n      <th>Flags</th>\n    </tr>\n  </thead>\n  <tbody>\n    <tr>\n      <th>0</th>\n      <td>523853</td>\n      <td>2024-Sep-07 15:39:51.000000000 UTC</td>\n      <td>NFTokenMint</td>\n      <td>rpU143xqysrXDNseSmpLTwNaN3vf4mCJMG</td>\n      <td>10</td>\n      <td>None</td>\n      <td>None</td>\n      <td>None</td>\n      <td>None</td>\n      <td>None</td>\n      <td>1461106</td>\n      <td>None</td>\n      <td>None</td>\n      <td>8</td>\n    </tr>\n    <tr>\n      <th>1</th>\n      <td>523853</td>\n      <td>2024-Sep-07 15:39:51.000000000 UTC</td>\n      <td>NFTokenMint</td>\n      <td>rpU143xqysrXDNseSmpLTwNaN3vf4mCJMG</td>\n      <td>10</td>\n      <td>None</td>\n      <td>None</td>\n      <td>None</td>\n      <td>None</td>\n      <td>None</td>\n      <td>1461107</td>\n      <td>None</td>\n      <td>None</td>\n      <td>8</td>\n    </tr>\n    <tr>\n      <th>2</th>\n      <td>523853</td>\n      <td>2024-Sep-07 15:39:51.000000000 UTC</td>\n      <td>NFTokenMint</td>\n      <td>rpU143xqysrXDNseSmpLTwNaN3vf4mCJMG</td>\n      <td>10</td>\n      <td>None</td>\n      <td>None</td>\n      <td>None</td>\n      <td>None</td>\n      <td>None</td>\n      <td>1461108</td>\n      <td>None</td>\n      <td>None</td>\n      <td>8</td>\n    </tr>\n    <tr>\n      <th>3</th>\n      <td>523853</td>\n      <td>2024-Sep-07 15:39:51.000000000 UTC</td>\n      <td>Payment</td>\n      <td>rPT1Sjq2YGrBMTttX4GZHjKu9dyfzbpAYe</td>\n      <td>12</td>\n      <td>None</td>\n      <td>None</td>\n      <td>None</td>\n      <td>None</td>\n      <td>None</td>\n      <td>0</td>\n      <td>None</td>\n      <td>None</td>\n      <td>0</td>\n    </tr>\n    <tr>\n      <th>4</th>\n      <td>523854</td>\n      <td>None</td>\n      <td>NFTokenMint</td>\n      <td>rpU143xqysrXDNseSmpLTwNaN3vf4mCJMG</td>\n      <td>10</td>\n      <td>None</td>\n      <td>None</td>\n      <td>None</td>\n      <td>None</td>\n      <td>None</td>\n      <td>1461114</td>\n      <td>None</td>\n      <td>None</td>\n      <td>8</td>\n    </tr>\n    <tr>\n      <th>5</th>\n      <td>523854</td>\n      <td>None</td>\n      <td>NFTokenMint</td>\n      <td>rpU143xqysrXDNseSmpLTwNaN3vf4mCJMG</td>\n      <td>10</td>\n      <td>None</td>\n      <td>None</td>\n      <td>None</td>\n      <td>None</td>\n      <td>None</td>\n      <td>1461109</td>\n      <td>None</td>\n      <td>None</td>\n      <td>8</td>\n    </tr>\n    <tr>\n      <th>6</th>\n      <td>523854</td>\n      <td>None</td>\n      <td>NFTokenMint</td>\n      <td>rpU143xqysrXDNseSmpLTwNaN3vf4mCJMG</td>\n      <td>10</td>\n      <td>None</td>\n      <td>None</td>\n      <td>None</td>\n      <td>None</td>\n      <td>None</td>\n      <td>1461113</td>\n      <td>None</td>\n      <td>None</td>\n      <td>8</td>\n    </tr>\n    <tr>\n      <th>7</th>\n      <td>523854</td>\n      <td>None</td>\n      <td>NFTokenMint</td>\n      <td>rpU143xqysrXDNseSmpLTwNaN3vf4mCJMG</td>\n      <td>10</td>\n      <td>None</td>\n      <td>None</td>\n      <td>None</td>\n      <td>None</td>\n      <td>None</td>\n      <td>1461110</td>\n      <td>None</td>\n      <td>None</td>\n      <td>8</td>\n    </tr>\n    <tr>\n      <th>8</th>\n      <td>523854</td>\n      <td>None</td>\n      <td>NFTokenMint</td>\n      <td>rpU143xqysrXDNseSmpLTwNaN3vf4mCJMG</td>\n      <td>10</td>\n      <td>None</td>\n      <td>None</td>\n      <td>None</td>\n      <td>None</td>\n      <td>None</td>\n      <td>1461111</td>\n      <td>None</td>\n      <td>None</td>\n      <td>8</td>\n    </tr>\n    <tr>\n      <th>9</th>\n      <td>523854</td>\n      <td>None</td>\n      <td>NFTokenMint</td>\n      <td>rpU143xqysrXDNseSmpLTwNaN3vf4mCJMG</td>\n      <td>10</td>\n      <td>None</td>\n      <td>None</td>\n      <td>None</td>\n      <td>None</td>\n      <td>None</td>\n      <td>1461112</td>\n      <td>None</td>\n      <td>None</td>\n      <td>8</td>\n    </tr>\n    <tr>\n      <th>10</th>\n      <td>523846</td>\n      <td>2024-Sep-07 15:39:30.000000000 UTC</td>\n      <td>NFTokenMint</td>\n      <td>rpU143xqysrXDNseSmpLTwNaN3vf4mCJMG</td>\n      <td>10</td>\n      <td>None</td>\n      <td>None</td>\n      <td>None</td>\n      <td>None</td>\n      <td>None</td>\n      <td>1461080</td>\n      <td>None</td>\n      <td>None</td>\n      <td>8</td>\n    </tr>\n    <tr>\n      <th>11</th>\n      <td>523846</td>\n      <td>2024-Sep-07 15:39:30.000000000 UTC</td>\n      <td>NFTokenMint</td>\n      <td>rpU143xqysrXDNseSmpLTwNaN3vf4mCJMG</td>\n      <td>10</td>\n      <td>None</td>\n      <td>None</td>\n      <td>None</td>\n      <td>None</td>\n      <td>None</td>\n      <td>1461079</td>\n      <td>None</td>\n      <td>None</td>\n      <td>8</td>\n    </tr>\n    <tr>\n      <th>12</th>\n      <td>523846</td>\n      <td>2024-Sep-07 15:39:30.000000000 UTC</td>\n      <td>NFTokenMint</td>\n      <td>rpU143xqysrXDNseSmpLTwNaN3vf4mCJMG</td>\n      <td>10</td>\n      <td>None</td>\n      <td>None</td>\n      <td>None</td>\n      <td>None</td>\n      <td>None</td>\n      <td>1461078</td>\n      <td>None</td>\n      <td>None</td>\n      <td>8</td>\n    </tr>\n    <tr>\n      <th>13</th>\n      <td>523846</td>\n      <td>2024-Sep-07 15:39:30.000000000 UTC</td>\n      <td>NFTokenMint</td>\n      <td>rpU143xqysrXDNseSmpLTwNaN3vf4mCJMG</td>\n      <td>10</td>\n      <td>None</td>\n      <td>None</td>\n      <td>None</td>\n      <td>None</td>\n      <td>None</td>\n      <td>1461081</td>\n      <td>None</td>\n      <td>None</td>\n      <td>8</td>\n    </tr>\n    <tr>\n      <th>14</th>\n      <td>523846</td>\n      <td>2024-Sep-07 15:39:30.000000000 UTC</td>\n      <td>Payment</td>\n      <td>rPT1Sjq2YGrBMTttX4GZHjKu9dyfzbpAYe</td>\n      <td>12</td>\n      <td>None</td>\n      <td>None</td>\n      <td>None</td>\n      <td>None</td>\n      <td>None</td>\n      <td>0</td>\n      <td>None</td>\n      <td>None</td>\n      <td>0</td>\n    </tr>\n    <tr>\n      <th>15</th>\n      <td>523848</td>\n      <td>2024-Sep-07 15:39:32.000000000 UTC</td>\n      <td>NFTokenMint</td>\n      <td>rpU143xqysrXDNseSmpLTwNaN3vf4mCJMG</td>\n      <td>10</td>\n      <td>None</td>\n      <td>None</td>\n      <td>None</td>\n      <td>None</td>\n      <td>None</td>\n      <td>1461089</td>\n      <td>None</td>\n      <td>None</td>\n      <td>8</td>\n    </tr>\n    <tr>\n      <th>16</th>\n      <td>523848</td>\n      <td>2024-Sep-07 15:39:32.000000000 UTC</td>\n      <td>NFTokenMint</td>\n      <td>rpU143xqysrXDNseSmpLTwNaN3vf4mCJMG</td>\n      <td>10</td>\n      <td>None</td>\n      <td>None</td>\n      <td>None</td>\n      <td>None</td>\n      <td>None</td>\n      <td>1461087</td>\n      <td>None</td>\n      <td>None</td>\n      <td>8</td>\n    </tr>\n    <tr>\n      <th>17</th>\n      <td>523848</td>\n      <td>2024-Sep-07 15:39:32.000000000 UTC</td>\n      <td>NFTokenMint</td>\n      <td>rpU143xqysrXDNseSmpLTwNaN3vf4mCJMG</td>\n      <td>10</td>\n      <td>None</td>\n      <td>None</td>\n      <td>None</td>\n      <td>None</td>\n      <td>None</td>\n      <td>1461088</td>\n      <td>None</td>\n      <td>None</td>\n      <td>8</td>\n    </tr>\n    <tr>\n      <th>18</th>\n      <td>523849</td>\n      <td>2024-Sep-07 15:39:40.000000000 UTC</td>\n      <td>NFTokenMint</td>\n      <td>rpU143xqysrXDNseSmpLTwNaN3vf4mCJMG</td>\n      <td>10</td>\n      <td>None</td>\n      <td>None</td>\n      <td>None</td>\n      <td>None</td>\n      <td>None</td>\n      <td>1461092</td>\n      <td>None</td>\n      <td>None</td>\n      <td>8</td>\n    </tr>\n    <tr>\n      <th>19</th>\n      <td>523849</td>\n      <td>2024-Sep-07 15:39:40.000000000 UTC</td>\n      <td>NFTokenMint</td>\n      <td>rpU143xqysrXDNseSmpLTwNaN3vf4mCJMG</td>\n      <td>10</td>\n      <td>None</td>\n      <td>None</td>\n      <td>None</td>\n      <td>None</td>\n      <td>None</td>\n      <td>1461093</td>\n      <td>None</td>\n      <td>None</td>\n      <td>8</td>\n    </tr>\n    <tr>\n      <th>20</th>\n      <td>523849</td>\n      <td>2024-Sep-07 15:39:40.000000000 UTC</td>\n      <td>NFTokenMint</td>\n      <td>rpU143xqysrXDNseSmpLTwNaN3vf4mCJMG</td>\n      <td>10</td>\n      <td>None</td>\n      <td>None</td>\n      <td>None</td>\n      <td>None</td>\n      <td>None</td>\n      <td>1461090</td>\n      <td>None</td>\n      <td>None</td>\n      <td>8</td>\n    </tr>\n    <tr>\n      <th>21</th>\n      <td>523849</td>\n      <td>2024-Sep-07 15:39:40.000000000 UTC</td>\n      <td>NFTokenMint</td>\n      <td>rpU143xqysrXDNseSmpLTwNaN3vf4mCJMG</td>\n      <td>10</td>\n      <td>None</td>\n      <td>None</td>\n      <td>None</td>\n      <td>None</td>\n      <td>None</td>\n      <td>1461091</td>\n      <td>None</td>\n      <td>None</td>\n      <td>8</td>\n    </tr>\n    <tr>\n      <th>22</th>\n      <td>523851</td>\n      <td>2024-Sep-07 15:39:42.000000000 UTC</td>\n      <td>NFTokenMint</td>\n      <td>rpU143xqysrXDNseSmpLTwNaN3vf4mCJMG</td>\n      <td>10</td>\n      <td>None</td>\n      <td>None</td>\n      <td>None</td>\n      <td>None</td>\n      <td>None</td>\n      <td>1461099</td>\n      <td>None</td>\n      <td>None</td>\n      <td>8</td>\n    </tr>\n    <tr>\n      <th>23</th>\n      <td>523851</td>\n      <td>2024-Sep-07 15:39:42.000000000 UTC</td>\n      <td>NFTokenMint</td>\n      <td>rpU143xqysrXDNseSmpLTwNaN3vf4mCJMG</td>\n      <td>10</td>\n      <td>None</td>\n      <td>None</td>\n      <td>None</td>\n      <td>None</td>\n      <td>None</td>\n      <td>1461098</td>\n      <td>None</td>\n      <td>None</td>\n      <td>8</td>\n    </tr>\n    <tr>\n      <th>24</th>\n      <td>523851</td>\n      <td>2024-Sep-07 15:39:42.000000000 UTC</td>\n      <td>NFTokenMint</td>\n      <td>rpU143xqysrXDNseSmpLTwNaN3vf4mCJMG</td>\n      <td>10</td>\n      <td>None</td>\n      <td>None</td>\n      <td>None</td>\n      <td>None</td>\n      <td>None</td>\n      <td>1461100</td>\n      <td>None</td>\n      <td>None</td>\n      <td>8</td>\n    </tr>\n    <tr>\n      <th>25</th>\n      <td>523851</td>\n      <td>2024-Sep-07 15:39:42.000000000 UTC</td>\n      <td>NFTokenMint</td>\n      <td>rpU143xqysrXDNseSmpLTwNaN3vf4mCJMG</td>\n      <td>10</td>\n      <td>None</td>\n      <td>None</td>\n      <td>None</td>\n      <td>None</td>\n      <td>None</td>\n      <td>1461097</td>\n      <td>None</td>\n      <td>None</td>\n      <td>8</td>\n    </tr>\n    <tr>\n      <th>26</th>\n      <td>523852</td>\n      <td>2024-Sep-07 15:39:50.000000000 UTC</td>\n      <td>NFTokenMint</td>\n      <td>rpU143xqysrXDNseSmpLTwNaN3vf4mCJMG</td>\n      <td>10</td>\n      <td>None</td>\n      <td>None</td>\n      <td>None</td>\n      <td>None</td>\n      <td>None</td>\n      <td>1461103</td>\n      <td>None</td>\n      <td>None</td>\n      <td>8</td>\n    </tr>\n    <tr>\n      <th>27</th>\n      <td>523852</td>\n      <td>2024-Sep-07 15:39:50.000000000 UTC</td>\n      <td>NFTokenMint</td>\n      <td>rpU143xqysrXDNseSmpLTwNaN3vf4mCJMG</td>\n      <td>10</td>\n      <td>None</td>\n      <td>None</td>\n      <td>None</td>\n      <td>None</td>\n      <td>None</td>\n      <td>1461101</td>\n      <td>None</td>\n      <td>None</td>\n      <td>8</td>\n    </tr>\n    <tr>\n      <th>28</th>\n      <td>523852</td>\n      <td>2024-Sep-07 15:39:50.000000000 UTC</td>\n      <td>NFTokenMint</td>\n      <td>rpU143xqysrXDNseSmpLTwNaN3vf4mCJMG</td>\n      <td>10</td>\n      <td>None</td>\n      <td>None</td>\n      <td>None</td>\n      <td>None</td>\n      <td>None</td>\n      <td>1461102</td>\n      <td>None</td>\n      <td>None</td>\n      <td>8</td>\n    </tr>\n    <tr>\n      <th>29</th>\n      <td>523852</td>\n      <td>2024-Sep-07 15:39:50.000000000 UTC</td>\n      <td>NFTokenMint</td>\n      <td>rpU143xqysrXDNseSmpLTwNaN3vf4mCJMG</td>\n      <td>10</td>\n      <td>None</td>\n      <td>None</td>\n      <td>None</td>\n      <td>None</td>\n      <td>None</td>\n      <td>1461104</td>\n      <td>None</td>\n      <td>None</td>\n      <td>8</td>\n    </tr>\n    <tr>\n      <th>30</th>\n      <td>523852</td>\n      <td>2024-Sep-07 15:39:50.000000000 UTC</td>\n      <td>NFTokenMint</td>\n      <td>rpU143xqysrXDNseSmpLTwNaN3vf4mCJMG</td>\n      <td>10</td>\n      <td>None</td>\n      <td>None</td>\n      <td>None</td>\n      <td>None</td>\n      <td>None</td>\n      <td>1461105</td>\n      <td>None</td>\n      <td>None</td>\n      <td>8</td>\n    </tr>\n    <tr>\n      <th>31</th>\n      <td>523850</td>\n      <td>2024-Sep-07 15:39:41.000000000 UTC</td>\n      <td>NFTokenMint</td>\n      <td>rpU143xqysrXDNseSmpLTwNaN3vf4mCJMG</td>\n      <td>10</td>\n      <td>None</td>\n      <td>None</td>\n      <td>None</td>\n      <td>None</td>\n      <td>None</td>\n      <td>1461095</td>\n      <td>None</td>\n      <td>None</td>\n      <td>8</td>\n    </tr>\n    <tr>\n      <th>32</th>\n      <td>523850</td>\n      <td>2024-Sep-07 15:39:41.000000000 UTC</td>\n      <td>NFTokenMint</td>\n      <td>rpU143xqysrXDNseSmpLTwNaN3vf4mCJMG</td>\n      <td>10</td>\n      <td>None</td>\n      <td>None</td>\n      <td>None</td>\n      <td>None</td>\n      <td>None</td>\n      <td>1461096</td>\n      <td>None</td>\n      <td>None</td>\n      <td>8</td>\n    </tr>\n    <tr>\n      <th>33</th>\n      <td>523850</td>\n      <td>2024-Sep-07 15:39:41.000000000 UTC</td>\n      <td>Payment</td>\n      <td>rPT1Sjq2YGrBMTttX4GZHjKu9dyfzbpAYe</td>\n      <td>12</td>\n      <td>None</td>\n      <td>None</td>\n      <td>None</td>\n      <td>None</td>\n      <td>None</td>\n      <td>0</td>\n      <td>None</td>\n      <td>None</td>\n      <td>0</td>\n    </tr>\n    <tr>\n      <th>34</th>\n      <td>523850</td>\n      <td>2024-Sep-07 15:39:41.000000000 UTC</td>\n      <td>NFTokenMint</td>\n      <td>rpU143xqysrXDNseSmpLTwNaN3vf4mCJMG</td>\n      <td>10</td>\n      <td>None</td>\n      <td>None</td>\n      <td>None</td>\n      <td>None</td>\n      <td>None</td>\n      <td>1461094</td>\n      <td>None</td>\n      <td>None</td>\n      <td>8</td>\n    </tr>\n    <tr>\n      <th>35</th>\n      <td>523845</td>\n      <td>2024-Sep-07 15:39:22.000000000 UTC</td>\n      <td>NFTokenMint</td>\n      <td>rpU143xqysrXDNseSmpLTwNaN3vf4mCJMG</td>\n      <td>10</td>\n      <td>None</td>\n      <td>None</td>\n      <td>None</td>\n      <td>None</td>\n      <td>None</td>\n      <td>1461076</td>\n      <td>None</td>\n      <td>None</td>\n      <td>8</td>\n    </tr>\n    <tr>\n      <th>36</th>\n      <td>523845</td>\n      <td>2024-Sep-07 15:39:22.000000000 UTC</td>\n      <td>NFTokenMint</td>\n      <td>rpU143xqysrXDNseSmpLTwNaN3vf4mCJMG</td>\n      <td>10</td>\n      <td>None</td>\n      <td>None</td>\n      <td>None</td>\n      <td>None</td>\n      <td>None</td>\n      <td>1461077</td>\n      <td>None</td>\n      <td>None</td>\n      <td>8</td>\n    </tr>\n    <tr>\n      <th>37</th>\n      <td>523845</td>\n      <td>2024-Sep-07 15:39:22.000000000 UTC</td>\n      <td>NFTokenMint</td>\n      <td>rpU143xqysrXDNseSmpLTwNaN3vf4mCJMG</td>\n      <td>10</td>\n      <td>None</td>\n      <td>None</td>\n      <td>None</td>\n      <td>None</td>\n      <td>None</td>\n      <td>1461075</td>\n      <td>None</td>\n      <td>None</td>\n      <td>8</td>\n    </tr>\n    <tr>\n      <th>38</th>\n      <td>523847</td>\n      <td>2024-Sep-07 15:39:31.000000000 UTC</td>\n      <td>NFTokenMint</td>\n      <td>rpU143xqysrXDNseSmpLTwNaN3vf4mCJMG</td>\n      <td>10</td>\n      <td>None</td>\n      <td>None</td>\n      <td>None</td>\n      <td>None</td>\n      <td>None</td>\n      <td>1461082</td>\n      <td>None</td>\n      <td>None</td>\n      <td>8</td>\n    </tr>\n    <tr>\n      <th>39</th>\n      <td>523847</td>\n      <td>2024-Sep-07 15:39:31.000000000 UTC</td>\n      <td>NFTokenMint</td>\n      <td>rpU143xqysrXDNseSmpLTwNaN3vf4mCJMG</td>\n      <td>10</td>\n      <td>None</td>\n      <td>None</td>\n      <td>None</td>\n      <td>None</td>\n      <td>None</td>\n      <td>1461085</td>\n      <td>None</td>\n      <td>None</td>\n      <td>8</td>\n    </tr>\n    <tr>\n      <th>40</th>\n      <td>523847</td>\n      <td>2024-Sep-07 15:39:31.000000000 UTC</td>\n      <td>NFTokenMint</td>\n      <td>rpU143xqysrXDNseSmpLTwNaN3vf4mCJMG</td>\n      <td>10</td>\n      <td>None</td>\n      <td>None</td>\n      <td>None</td>\n      <td>None</td>\n      <td>None</td>\n      <td>1461083</td>\n      <td>None</td>\n      <td>None</td>\n      <td>8</td>\n    </tr>\n    <tr>\n      <th>41</th>\n      <td>523847</td>\n      <td>2024-Sep-07 15:39:31.000000000 UTC</td>\n      <td>NFTokenMint</td>\n      <td>rpU143xqysrXDNseSmpLTwNaN3vf4mCJMG</td>\n      <td>10</td>\n      <td>None</td>\n      <td>None</td>\n      <td>None</td>\n      <td>None</td>\n      <td>None</td>\n      <td>1461086</td>\n      <td>None</td>\n      <td>None</td>\n      <td>8</td>\n    </tr>\n    <tr>\n      <th>42</th>\n      <td>523847</td>\n      <td>2024-Sep-07 15:39:31.000000000 UTC</td>\n      <td>NFTokenMint</td>\n      <td>rpU143xqysrXDNseSmpLTwNaN3vf4mCJMG</td>\n      <td>10</td>\n      <td>None</td>\n      <td>None</td>\n      <td>None</td>\n      <td>None</td>\n      <td>None</td>\n      <td>1461084</td>\n      <td>None</td>\n      <td>None</td>\n      <td>8</td>\n    </tr>\n  </tbody>\n</table>\n</div>"
     },
     "execution_count": 15,
     "metadata": {},
     "output_type": "execute_result"
    }
   ],
   "source": [
    "df"
   ],
   "metadata": {
    "collapsed": false,
    "ExecuteTime": {
     "end_time": "2024-09-07T15:43:09.687244Z",
     "start_time": "2024-09-07T15:43:09.672841Z"
    }
   },
   "id": "553bb1c852ff6602",
   "execution_count": 15
  },
  {
   "cell_type": "code",
   "outputs": [
    {
     "data": {
      "text/plain": "LedgerSequence       object\nCloseTime            object\nTransactionType      object\nAccount              object\nFee                  object\nTransactionResult    object\nTakerGets            object\nTakerPays            object\nIssuer               object\nCurrency             object\nSequence              int64\nOfferSequence        object\nOwnerCount           object\nFlags                 int64\ndtype: object"
     },
     "execution_count": 14,
     "metadata": {},
     "output_type": "execute_result"
    }
   ],
   "source": [
    "df.dtypes"
   ],
   "metadata": {
    "collapsed": false,
    "ExecuteTime": {
     "end_time": "2024-09-07T15:41:27.292732Z",
     "start_time": "2024-09-07T15:41:27.289140Z"
    }
   },
   "id": "9c8294b4ea3b30f5",
   "execution_count": 14
  },
  {
   "cell_type": "code",
   "outputs": [],
   "source": [
    "# convert columns\n",
    "df['LedgerSequence'] = pd.to_numeric(df['LedgerSequence'])\n",
    "df['Fee'] = pd.to_numeric(df['Fee'])\n",
    "df['CloseTime'] = pd.to_datetime(df['CloseTime'])"
   ],
   "metadata": {
    "collapsed": false,
    "ExecuteTime": {
     "end_time": "2024-09-07T15:45:49.219205Z",
     "start_time": "2024-09-07T15:45:49.189285Z"
    }
   },
   "id": "e38de8ab2815d2e2",
   "execution_count": 16
  },
  {
   "cell_type": "code",
   "outputs": [
    {
     "data": {
      "text/plain": "LedgerSequence                     int64\nCloseTime            datetime64[ns, UTC]\nTransactionType                   object\nAccount                           object\nFee                                int64\nTransactionResult                 object\nTakerGets                         object\nTakerPays                         object\nIssuer                            object\nCurrency                          object\nSequence                           int64\nOfferSequence                    float64\nOwnerCount                        object\nFlags                              int64\ndtype: object"
     },
     "execution_count": 17,
     "metadata": {},
     "output_type": "execute_result"
    }
   ],
   "source": [
    "df.dtypes"
   ],
   "metadata": {
    "collapsed": false,
    "ExecuteTime": {
     "end_time": "2024-09-07T15:45:51.307483Z",
     "start_time": "2024-09-07T15:45:51.304357Z"
    }
   },
   "id": "d97d7f6b99386dff",
   "execution_count": 17
  },
  {
   "cell_type": "code",
   "outputs": [],
   "source": [],
   "metadata": {
    "collapsed": false
   },
   "id": "acc803e697fa1cf"
  }
 ],
 "metadata": {
  "kernelspec": {
   "display_name": "Python 3",
   "language": "python",
   "name": "python3"
  },
  "language_info": {
   "codemirror_mode": {
    "name": "ipython",
    "version": 2
   },
   "file_extension": ".py",
   "mimetype": "text/x-python",
   "name": "python",
   "nbconvert_exporter": "python",
   "pygments_lexer": "ipython2",
   "version": "2.7.6"
  }
 },
 "nbformat": 4,
 "nbformat_minor": 5
}
