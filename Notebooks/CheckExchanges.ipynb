{
 "cells": [
  {
   "cell_type": "markdown",
   "source": [
    "##### Load ripple_transactions csv"
   ],
   "metadata": {
    "collapsed": false
   },
   "id": "a5f583a924839a38"
  },
  {
   "cell_type": "code",
   "outputs": [],
   "source": [
    "import pandas as pd\n",
    "import numpy as np\n",
    "import matplotlib.pyplot as plt\n",
    "import seaborn as sns\n",
    "import datetime\n",
    "import os\n"
   ],
   "metadata": {
    "collapsed": false,
    "ExecuteTime": {
     "end_time": "2024-09-24T15:56:55.454252Z",
     "start_time": "2024-09-24T15:56:55.444368Z"
    }
   },
   "id": "44b93b6add4cea3b",
   "execution_count": 2
  },
  {
   "cell_type": "code",
   "outputs": [
    {
     "name": "stderr",
     "output_type": "stream",
     "text": [
      "/var/folders/k4/_w824cfn3v12mdxqlv8kc17r0000gn/T/ipykernel_52883/2072821939.py:2: DtypeWarning: Columns (6,20,30,31,41) have mixed types. Specify dtype option on import or set low_memory=False.\n",
      "  df = pd.read_csv('../data/ripple_transactions.csv')\n"
     ]
    },
    {
     "data": {
      "text/plain": "   LedgerSequence                  CloseTime TransactionType  \\\n0        90970881  2024-09-24 15:56:01+00:00         Payment   \n1        90970881  2024-09-24 15:56:01+00:00     OfferCreate   \n2        90970881  2024-09-24 15:56:01+00:00     OfferCreate   \n3        90970881  2024-09-24 15:56:01+00:00         Payment   \n4        90970881  2024-09-24 15:56:01+00:00     OfferCreate   \n\n                              Account  Fee   Sequence AccountTxnID     Flags  \\\n0  r4BBoZghscZgjMS5GJj1QCEdpWKdn7iTXn   12   97520928          NaN       0.0   \n1   rogue5HnPRSszD9CWGSUz8UGHMVwSSKF6   10   15744203          NaN  655360.0   \n2  rBTwLga3i2gz3doX6Gva3MgEV8ZCD8jjah   20  153078251          NaN       0.0   \n3  r4BBoZghscZgjMS5GJj1QCEdpWKdn7iTXn   12   97520936          NaN       0.0   \n4  rBTwLga3i2gz3doX6Gva3MgEV8ZCD8jjah   20  153078249          NaN       0.0   \n\n   LastLedgerSequence Memos  ...  AffectedNodes DeliveredAmount  OwnerCount  \\\n0          90970954.0   NaN  ...            NaN             NaN         NaN   \n1          90970882.0   NaN  ...            NaN             NaN         NaN   \n2          90970883.0   NaN  ...            NaN             NaN         NaN   \n3          90970954.0   NaN  ...            NaN             NaN         NaN   \n4          90970883.0   NaN  ...            NaN             NaN         NaN   \n\n  SetFlag  ClearFlag Domain  EmailHash MessageKey  TransferRate RegularKey  \n0     NaN        NaN    NaN        NaN        NaN           NaN        NaN  \n1     NaN        NaN    NaN        NaN        NaN           NaN        NaN  \n2     NaN        NaN    NaN        NaN        NaN           NaN        NaN  \n3     NaN        NaN    NaN        NaN        NaN           NaN        NaN  \n4     NaN        NaN    NaN        NaN        NaN           NaN        NaN  \n\n[5 rows x 45 columns]",
      "text/html": "<div>\n<style scoped>\n    .dataframe tbody tr th:only-of-type {\n        vertical-align: middle;\n    }\n\n    .dataframe tbody tr th {\n        vertical-align: top;\n    }\n\n    .dataframe thead th {\n        text-align: right;\n    }\n</style>\n<table border=\"1\" class=\"dataframe\">\n  <thead>\n    <tr style=\"text-align: right;\">\n      <th></th>\n      <th>LedgerSequence</th>\n      <th>CloseTime</th>\n      <th>TransactionType</th>\n      <th>Account</th>\n      <th>Fee</th>\n      <th>Sequence</th>\n      <th>AccountTxnID</th>\n      <th>Flags</th>\n      <th>LastLedgerSequence</th>\n      <th>Memos</th>\n      <th>...</th>\n      <th>AffectedNodes</th>\n      <th>DeliveredAmount</th>\n      <th>OwnerCount</th>\n      <th>SetFlag</th>\n      <th>ClearFlag</th>\n      <th>Domain</th>\n      <th>EmailHash</th>\n      <th>MessageKey</th>\n      <th>TransferRate</th>\n      <th>RegularKey</th>\n    </tr>\n  </thead>\n  <tbody>\n    <tr>\n      <th>0</th>\n      <td>90970881</td>\n      <td>2024-09-24 15:56:01+00:00</td>\n      <td>Payment</td>\n      <td>r4BBoZghscZgjMS5GJj1QCEdpWKdn7iTXn</td>\n      <td>12</td>\n      <td>97520928</td>\n      <td>NaN</td>\n      <td>0.0</td>\n      <td>90970954.0</td>\n      <td>NaN</td>\n      <td>...</td>\n      <td>NaN</td>\n      <td>NaN</td>\n      <td>NaN</td>\n      <td>NaN</td>\n      <td>NaN</td>\n      <td>NaN</td>\n      <td>NaN</td>\n      <td>NaN</td>\n      <td>NaN</td>\n      <td>NaN</td>\n    </tr>\n    <tr>\n      <th>1</th>\n      <td>90970881</td>\n      <td>2024-09-24 15:56:01+00:00</td>\n      <td>OfferCreate</td>\n      <td>rogue5HnPRSszD9CWGSUz8UGHMVwSSKF6</td>\n      <td>10</td>\n      <td>15744203</td>\n      <td>NaN</td>\n      <td>655360.0</td>\n      <td>90970882.0</td>\n      <td>NaN</td>\n      <td>...</td>\n      <td>NaN</td>\n      <td>NaN</td>\n      <td>NaN</td>\n      <td>NaN</td>\n      <td>NaN</td>\n      <td>NaN</td>\n      <td>NaN</td>\n      <td>NaN</td>\n      <td>NaN</td>\n      <td>NaN</td>\n    </tr>\n    <tr>\n      <th>2</th>\n      <td>90970881</td>\n      <td>2024-09-24 15:56:01+00:00</td>\n      <td>OfferCreate</td>\n      <td>rBTwLga3i2gz3doX6Gva3MgEV8ZCD8jjah</td>\n      <td>20</td>\n      <td>153078251</td>\n      <td>NaN</td>\n      <td>0.0</td>\n      <td>90970883.0</td>\n      <td>NaN</td>\n      <td>...</td>\n      <td>NaN</td>\n      <td>NaN</td>\n      <td>NaN</td>\n      <td>NaN</td>\n      <td>NaN</td>\n      <td>NaN</td>\n      <td>NaN</td>\n      <td>NaN</td>\n      <td>NaN</td>\n      <td>NaN</td>\n    </tr>\n    <tr>\n      <th>3</th>\n      <td>90970881</td>\n      <td>2024-09-24 15:56:01+00:00</td>\n      <td>Payment</td>\n      <td>r4BBoZghscZgjMS5GJj1QCEdpWKdn7iTXn</td>\n      <td>12</td>\n      <td>97520936</td>\n      <td>NaN</td>\n      <td>0.0</td>\n      <td>90970954.0</td>\n      <td>NaN</td>\n      <td>...</td>\n      <td>NaN</td>\n      <td>NaN</td>\n      <td>NaN</td>\n      <td>NaN</td>\n      <td>NaN</td>\n      <td>NaN</td>\n      <td>NaN</td>\n      <td>NaN</td>\n      <td>NaN</td>\n      <td>NaN</td>\n    </tr>\n    <tr>\n      <th>4</th>\n      <td>90970881</td>\n      <td>2024-09-24 15:56:01+00:00</td>\n      <td>OfferCreate</td>\n      <td>rBTwLga3i2gz3doX6Gva3MgEV8ZCD8jjah</td>\n      <td>20</td>\n      <td>153078249</td>\n      <td>NaN</td>\n      <td>0.0</td>\n      <td>90970883.0</td>\n      <td>NaN</td>\n      <td>...</td>\n      <td>NaN</td>\n      <td>NaN</td>\n      <td>NaN</td>\n      <td>NaN</td>\n      <td>NaN</td>\n      <td>NaN</td>\n      <td>NaN</td>\n      <td>NaN</td>\n      <td>NaN</td>\n      <td>NaN</td>\n    </tr>\n  </tbody>\n</table>\n<p>5 rows × 45 columns</p>\n</div>"
     },
     "execution_count": 4,
     "metadata": {},
     "output_type": "execute_result"
    }
   ],
   "source": [
    "# Load data\n",
    "df = pd.read_csv('../data/ripple_transactions.csv')\n",
    "df.head()"
   ],
   "metadata": {
    "collapsed": false,
    "ExecuteTime": {
     "end_time": "2024-09-24T16:08:37.255012Z",
     "start_time": "2024-09-24T16:08:36.896677Z"
    }
   },
   "id": "6bdf80cb1bdaf4b1",
   "execution_count": 4
  },
  {
   "cell_type": "code",
   "outputs": [
    {
     "data": {
      "text/plain": "       LedgerSequence                  CloseTime TransactionType  \\\n0            90970881  2024-09-24 15:56:01+00:00         Payment   \n1            90970881  2024-09-24 15:56:01+00:00     OfferCreate   \n2            90970881  2024-09-24 15:56:01+00:00     OfferCreate   \n3            90970881  2024-09-24 15:56:01+00:00         Payment   \n4            90970881  2024-09-24 15:56:01+00:00     OfferCreate   \n...               ...                        ...             ...   \n65195        90969886  2024-09-24 14:51:01+00:00         Payment   \n65196        90969886  2024-09-24 14:51:01+00:00         Payment   \n65197        90969886  2024-09-24 14:51:01+00:00         Payment   \n65198        90969886  2024-09-24 14:51:01+00:00     OfferCancel   \n65199        90969886  2024-09-24 14:51:01+00:00         Payment   \n\n                                  Account   Fee   Sequence AccountTxnID  \\\n0      r4BBoZghscZgjMS5GJj1QCEdpWKdn7iTXn    12   97520928          NaN   \n1       rogue5HnPRSszD9CWGSUz8UGHMVwSSKF6    10   15744203          NaN   \n2      rBTwLga3i2gz3doX6Gva3MgEV8ZCD8jjah    20  153078251          NaN   \n3      r4BBoZghscZgjMS5GJj1QCEdpWKdn7iTXn    12   97520936          NaN   \n4      rBTwLga3i2gz3doX6Gva3MgEV8ZCD8jjah    20  153078249          NaN   \n...                                   ...   ...        ...          ...   \n65195  r4BBoZghscZgjMS5GJj1QCEdpWKdn7iTXn    12   97495520          NaN   \n65196  r4BBoZghscZgjMS5GJj1QCEdpWKdn7iTXn    12   97495524          NaN   \n65197  rLoqMgpjwGEQinYEM623za8c2nC2Uah8v7  1000   88691528          NaN   \n65198  rhGbv8bgh1cw65uHvz82DaRcWzX63mvbbs    30   90571277          NaN   \n65199  r4BBoZghscZgjMS5GJj1QCEdpWKdn7iTXn    12   97495522          NaN   \n\n          Flags  LastLedgerSequence  \\\n0           0.0          90970954.0   \n1      655360.0          90970882.0   \n2           0.0          90970883.0   \n3           0.0          90970954.0   \n4           0.0          90970883.0   \n...         ...                 ...   \n65195       0.0          90969959.0   \n65196       0.0          90969959.0   \n65197       0.0                 NaN   \n65198       0.0          90969903.0   \n65199       0.0          90969959.0   \n\n                                                   Memos  ...  AffectedNodes  \\\n0                                                    NaN  ...            NaN   \n1                                                    NaN  ...            NaN   \n2                                                    NaN  ...            NaN   \n3                                                    NaN  ...            NaN   \n4                                                    NaN  ...            NaN   \n...                                                  ...  ...            ...   \n65195                                                NaN  ...            NaN   \n65196                                                NaN  ...            NaN   \n65197                                                NaN  ...            NaN   \n65198  [{'Memo': {'MemoData': '68626F742D313732373138...  ...            NaN   \n65199                                                NaN  ...            NaN   \n\n      DeliveredAmount  OwnerCount SetFlag  ClearFlag Domain  EmailHash  \\\n0                 NaN         NaN     NaN        NaN    NaN        NaN   \n1                 NaN         NaN     NaN        NaN    NaN        NaN   \n2                 NaN         NaN     NaN        NaN    NaN        NaN   \n3                 NaN         NaN     NaN        NaN    NaN        NaN   \n4                 NaN         NaN     NaN        NaN    NaN        NaN   \n...               ...         ...     ...        ...    ...        ...   \n65195             NaN         NaN     NaN        NaN    NaN        NaN   \n65196             NaN         NaN     NaN        NaN    NaN        NaN   \n65197             NaN         NaN     NaN        NaN    NaN        NaN   \n65198             NaN         NaN     NaN        NaN    NaN        NaN   \n65199             NaN         NaN     NaN        NaN    NaN        NaN   \n\n      MessageKey  TransferRate RegularKey  \n0            NaN           NaN        NaN  \n1            NaN           NaN        NaN  \n2            NaN           NaN        NaN  \n3            NaN           NaN        NaN  \n4            NaN           NaN        NaN  \n...          ...           ...        ...  \n65195        NaN           NaN        NaN  \n65196        NaN           NaN        NaN  \n65197        NaN           NaN        NaN  \n65198        NaN           NaN        NaN  \n65199        NaN           NaN        NaN  \n\n[65200 rows x 45 columns]",
      "text/html": "<div>\n<style scoped>\n    .dataframe tbody tr th:only-of-type {\n        vertical-align: middle;\n    }\n\n    .dataframe tbody tr th {\n        vertical-align: top;\n    }\n\n    .dataframe thead th {\n        text-align: right;\n    }\n</style>\n<table border=\"1\" class=\"dataframe\">\n  <thead>\n    <tr style=\"text-align: right;\">\n      <th></th>\n      <th>LedgerSequence</th>\n      <th>CloseTime</th>\n      <th>TransactionType</th>\n      <th>Account</th>\n      <th>Fee</th>\n      <th>Sequence</th>\n      <th>AccountTxnID</th>\n      <th>Flags</th>\n      <th>LastLedgerSequence</th>\n      <th>Memos</th>\n      <th>...</th>\n      <th>AffectedNodes</th>\n      <th>DeliveredAmount</th>\n      <th>OwnerCount</th>\n      <th>SetFlag</th>\n      <th>ClearFlag</th>\n      <th>Domain</th>\n      <th>EmailHash</th>\n      <th>MessageKey</th>\n      <th>TransferRate</th>\n      <th>RegularKey</th>\n    </tr>\n  </thead>\n  <tbody>\n    <tr>\n      <th>0</th>\n      <td>90970881</td>\n      <td>2024-09-24 15:56:01+00:00</td>\n      <td>Payment</td>\n      <td>r4BBoZghscZgjMS5GJj1QCEdpWKdn7iTXn</td>\n      <td>12</td>\n      <td>97520928</td>\n      <td>NaN</td>\n      <td>0.0</td>\n      <td>90970954.0</td>\n      <td>NaN</td>\n      <td>...</td>\n      <td>NaN</td>\n      <td>NaN</td>\n      <td>NaN</td>\n      <td>NaN</td>\n      <td>NaN</td>\n      <td>NaN</td>\n      <td>NaN</td>\n      <td>NaN</td>\n      <td>NaN</td>\n      <td>NaN</td>\n    </tr>\n    <tr>\n      <th>1</th>\n      <td>90970881</td>\n      <td>2024-09-24 15:56:01+00:00</td>\n      <td>OfferCreate</td>\n      <td>rogue5HnPRSszD9CWGSUz8UGHMVwSSKF6</td>\n      <td>10</td>\n      <td>15744203</td>\n      <td>NaN</td>\n      <td>655360.0</td>\n      <td>90970882.0</td>\n      <td>NaN</td>\n      <td>...</td>\n      <td>NaN</td>\n      <td>NaN</td>\n      <td>NaN</td>\n      <td>NaN</td>\n      <td>NaN</td>\n      <td>NaN</td>\n      <td>NaN</td>\n      <td>NaN</td>\n      <td>NaN</td>\n      <td>NaN</td>\n    </tr>\n    <tr>\n      <th>2</th>\n      <td>90970881</td>\n      <td>2024-09-24 15:56:01+00:00</td>\n      <td>OfferCreate</td>\n      <td>rBTwLga3i2gz3doX6Gva3MgEV8ZCD8jjah</td>\n      <td>20</td>\n      <td>153078251</td>\n      <td>NaN</td>\n      <td>0.0</td>\n      <td>90970883.0</td>\n      <td>NaN</td>\n      <td>...</td>\n      <td>NaN</td>\n      <td>NaN</td>\n      <td>NaN</td>\n      <td>NaN</td>\n      <td>NaN</td>\n      <td>NaN</td>\n      <td>NaN</td>\n      <td>NaN</td>\n      <td>NaN</td>\n      <td>NaN</td>\n    </tr>\n    <tr>\n      <th>3</th>\n      <td>90970881</td>\n      <td>2024-09-24 15:56:01+00:00</td>\n      <td>Payment</td>\n      <td>r4BBoZghscZgjMS5GJj1QCEdpWKdn7iTXn</td>\n      <td>12</td>\n      <td>97520936</td>\n      <td>NaN</td>\n      <td>0.0</td>\n      <td>90970954.0</td>\n      <td>NaN</td>\n      <td>...</td>\n      <td>NaN</td>\n      <td>NaN</td>\n      <td>NaN</td>\n      <td>NaN</td>\n      <td>NaN</td>\n      <td>NaN</td>\n      <td>NaN</td>\n      <td>NaN</td>\n      <td>NaN</td>\n      <td>NaN</td>\n    </tr>\n    <tr>\n      <th>4</th>\n      <td>90970881</td>\n      <td>2024-09-24 15:56:01+00:00</td>\n      <td>OfferCreate</td>\n      <td>rBTwLga3i2gz3doX6Gva3MgEV8ZCD8jjah</td>\n      <td>20</td>\n      <td>153078249</td>\n      <td>NaN</td>\n      <td>0.0</td>\n      <td>90970883.0</td>\n      <td>NaN</td>\n      <td>...</td>\n      <td>NaN</td>\n      <td>NaN</td>\n      <td>NaN</td>\n      <td>NaN</td>\n      <td>NaN</td>\n      <td>NaN</td>\n      <td>NaN</td>\n      <td>NaN</td>\n      <td>NaN</td>\n      <td>NaN</td>\n    </tr>\n    <tr>\n      <th>...</th>\n      <td>...</td>\n      <td>...</td>\n      <td>...</td>\n      <td>...</td>\n      <td>...</td>\n      <td>...</td>\n      <td>...</td>\n      <td>...</td>\n      <td>...</td>\n      <td>...</td>\n      <td>...</td>\n      <td>...</td>\n      <td>...</td>\n      <td>...</td>\n      <td>...</td>\n      <td>...</td>\n      <td>...</td>\n      <td>...</td>\n      <td>...</td>\n      <td>...</td>\n      <td>...</td>\n    </tr>\n    <tr>\n      <th>65195</th>\n      <td>90969886</td>\n      <td>2024-09-24 14:51:01+00:00</td>\n      <td>Payment</td>\n      <td>r4BBoZghscZgjMS5GJj1QCEdpWKdn7iTXn</td>\n      <td>12</td>\n      <td>97495520</td>\n      <td>NaN</td>\n      <td>0.0</td>\n      <td>90969959.0</td>\n      <td>NaN</td>\n      <td>...</td>\n      <td>NaN</td>\n      <td>NaN</td>\n      <td>NaN</td>\n      <td>NaN</td>\n      <td>NaN</td>\n      <td>NaN</td>\n      <td>NaN</td>\n      <td>NaN</td>\n      <td>NaN</td>\n      <td>NaN</td>\n    </tr>\n    <tr>\n      <th>65196</th>\n      <td>90969886</td>\n      <td>2024-09-24 14:51:01+00:00</td>\n      <td>Payment</td>\n      <td>r4BBoZghscZgjMS5GJj1QCEdpWKdn7iTXn</td>\n      <td>12</td>\n      <td>97495524</td>\n      <td>NaN</td>\n      <td>0.0</td>\n      <td>90969959.0</td>\n      <td>NaN</td>\n      <td>...</td>\n      <td>NaN</td>\n      <td>NaN</td>\n      <td>NaN</td>\n      <td>NaN</td>\n      <td>NaN</td>\n      <td>NaN</td>\n      <td>NaN</td>\n      <td>NaN</td>\n      <td>NaN</td>\n      <td>NaN</td>\n    </tr>\n    <tr>\n      <th>65197</th>\n      <td>90969886</td>\n      <td>2024-09-24 14:51:01+00:00</td>\n      <td>Payment</td>\n      <td>rLoqMgpjwGEQinYEM623za8c2nC2Uah8v7</td>\n      <td>1000</td>\n      <td>88691528</td>\n      <td>NaN</td>\n      <td>0.0</td>\n      <td>NaN</td>\n      <td>NaN</td>\n      <td>...</td>\n      <td>NaN</td>\n      <td>NaN</td>\n      <td>NaN</td>\n      <td>NaN</td>\n      <td>NaN</td>\n      <td>NaN</td>\n      <td>NaN</td>\n      <td>NaN</td>\n      <td>NaN</td>\n      <td>NaN</td>\n    </tr>\n    <tr>\n      <th>65198</th>\n      <td>90969886</td>\n      <td>2024-09-24 14:51:01+00:00</td>\n      <td>OfferCancel</td>\n      <td>rhGbv8bgh1cw65uHvz82DaRcWzX63mvbbs</td>\n      <td>30</td>\n      <td>90571277</td>\n      <td>NaN</td>\n      <td>0.0</td>\n      <td>90969903.0</td>\n      <td>[{'Memo': {'MemoData': '68626F742D313732373138...</td>\n      <td>...</td>\n      <td>NaN</td>\n      <td>NaN</td>\n      <td>NaN</td>\n      <td>NaN</td>\n      <td>NaN</td>\n      <td>NaN</td>\n      <td>NaN</td>\n      <td>NaN</td>\n      <td>NaN</td>\n      <td>NaN</td>\n    </tr>\n    <tr>\n      <th>65199</th>\n      <td>90969886</td>\n      <td>2024-09-24 14:51:01+00:00</td>\n      <td>Payment</td>\n      <td>r4BBoZghscZgjMS5GJj1QCEdpWKdn7iTXn</td>\n      <td>12</td>\n      <td>97495522</td>\n      <td>NaN</td>\n      <td>0.0</td>\n      <td>90969959.0</td>\n      <td>NaN</td>\n      <td>...</td>\n      <td>NaN</td>\n      <td>NaN</td>\n      <td>NaN</td>\n      <td>NaN</td>\n      <td>NaN</td>\n      <td>NaN</td>\n      <td>NaN</td>\n      <td>NaN</td>\n      <td>NaN</td>\n      <td>NaN</td>\n    </tr>\n  </tbody>\n</table>\n<p>65200 rows × 45 columns</p>\n</div>"
     },
     "execution_count": 22,
     "metadata": {},
     "output_type": "execute_result"
    }
   ],
   "source": [
    "df"
   ],
   "metadata": {
    "collapsed": false,
    "ExecuteTime": {
     "end_time": "2024-09-24T17:41:10.248566Z",
     "start_time": "2024-09-24T17:41:10.114361Z"
    }
   },
   "id": "5d702eaeed6d6c12",
   "execution_count": 22
  },
  {
   "cell_type": "markdown",
   "source": [
    "##### Check for addresses"
   ],
   "metadata": {
    "collapsed": false
   },
   "id": "37902e37f9e81daa"
  },
  {
   "cell_type": "code",
   "outputs": [
    {
     "data": {
      "text/plain": "Empty DataFrame\nColumns: [LedgerSequence, CloseTime, TransactionType, Account, Fee, Sequence, AccountTxnID, Flags, LastLedgerSequence, Memos, NetworkID, Signers, SourceTag, SigningPubKey, TicketSequence, TxnSignature, Amount, Destination, DestinationTag, InvoiceID, Paths, SendMax, DeliverMin, TakerGets, TakerPays, Expiration, OfferSequence, LimitAmount, QualityIn, QualityOut, FinishAfter, CancelAfter, Condition, Fulfillment, TransactionResult, AffectedNodes, DeliveredAmount, OwnerCount, SetFlag, ClearFlag, Domain, EmailHash, MessageKey, TransferRate, RegularKey]\nIndex: []\n\n[0 rows x 45 columns]",
      "text/html": "<div>\n<style scoped>\n    .dataframe tbody tr th:only-of-type {\n        vertical-align: middle;\n    }\n\n    .dataframe tbody tr th {\n        vertical-align: top;\n    }\n\n    .dataframe thead th {\n        text-align: right;\n    }\n</style>\n<table border=\"1\" class=\"dataframe\">\n  <thead>\n    <tr style=\"text-align: right;\">\n      <th></th>\n      <th>LedgerSequence</th>\n      <th>CloseTime</th>\n      <th>TransactionType</th>\n      <th>Account</th>\n      <th>Fee</th>\n      <th>Sequence</th>\n      <th>AccountTxnID</th>\n      <th>Flags</th>\n      <th>LastLedgerSequence</th>\n      <th>Memos</th>\n      <th>...</th>\n      <th>AffectedNodes</th>\n      <th>DeliveredAmount</th>\n      <th>OwnerCount</th>\n      <th>SetFlag</th>\n      <th>ClearFlag</th>\n      <th>Domain</th>\n      <th>EmailHash</th>\n      <th>MessageKey</th>\n      <th>TransferRate</th>\n      <th>RegularKey</th>\n    </tr>\n  </thead>\n  <tbody>\n  </tbody>\n</table>\n<p>0 rows × 45 columns</p>\n</div>"
     },
     "execution_count": 7,
     "metadata": {},
     "output_type": "execute_result"
    }
   ],
   "source": [
    "# Check for rB3WNZc45gxzW31zxfXdkx8HusAhoqscPn in the data\n",
    "df[df['Account'] == 'rs8ZPbYqgecRcDzQpJYAMhSxSi5htsjnza']\n"
   ],
   "metadata": {
    "collapsed": false,
    "ExecuteTime": {
     "end_time": "2024-09-24T16:11:42.675668Z",
     "start_time": "2024-09-24T16:11:42.658519Z"
    }
   },
   "id": "e8ceeeb9a6b09499",
   "execution_count": 7
  },
  {
   "cell_type": "code",
   "outputs": [
    {
     "data": {
      "text/plain": "Account\nr4BBoZghscZgjMS5GJj1QCEdpWKdn7iTXn    20700\nrapido5rxPmP4YkMZZEeXSHqWefxHEkqv6    10917\nrogue5HnPRSszD9CWGSUz8UGHMVwSSKF6     10453\nrBTwLga3i2gz3doX6Gva3MgEV8ZCD8jjah     4270\nr3rhWeE31Jt5sWmi4QiGLMZnY3ENgqw96W     1450\nrh3VLyj1GbQjX7eA15BwUagEhSrPHmLkSR     1100\nrQ3fNyLjbvcDaPNS4EAJY8aT9zR3uGk17c     1096\nr4dgY6Mzob3NVq8CFYdEiPnXKboRScsXRu     1076\nr4AZpDKVoBxVcYUJCWMcqZzyWsHTteC4ZE     1074\nrhGbv8bgh1cw65uHvz82DaRcWzX63mvbbs      947\nName: count, dtype: int64"
     },
     "execution_count": 8,
     "metadata": {},
     "output_type": "execute_result"
    }
   ],
   "source": [
    "# show the most frequent addresses in account column\n",
    "df['Account'].value_counts().head(10)\n"
   ],
   "metadata": {
    "collapsed": false,
    "ExecuteTime": {
     "end_time": "2024-09-24T16:13:05.243540Z",
     "start_time": "2024-09-24T16:13:05.226378Z"
    }
   },
   "id": "ed6fb31d40f25f31",
   "execution_count": 8
  },
  {
   "cell_type": "code",
   "outputs": [
    {
     "data": {
      "text/plain": "   Rang                             Account         Name Balance (XRP)  \\\n0     1  rB3WNZc45gxzW31zxfXdkx8HusAhoqscPn  Ripple (11)       222 XRP   \n1     2  r9UUEXn3cx2seufBkDa8F86usfjWM6HiYp  Ripple (10)       220 XRP   \n2     3  r9NpyVfLfUG8hatuCCHKzosyDtKnBdsEN3   Ripple (9)       204 XRP   \n3     4  rMhkqz3DeU7GUUJKGZofusbrTwZe6bDyb1  Ripple (28)       202 XRP   \n4     5  rGKHDyj4L6pc7DzRB6LWCR4YfZfzXj2Bdh  Ripple (26)       201 XRP   \n\n     In Escrow (XRP)       %  \n0  5,000,000,000 XRP  5.001%  \n1  5,000,000,000 XRP  5.001%  \n2  5,000,000,000 XRP  5.001%  \n3  5,000,000,000 XRP  5.001%  \n4  5,000,000,000 XRP  5.001%  ",
      "text/html": "<div>\n<style scoped>\n    .dataframe tbody tr th:only-of-type {\n        vertical-align: middle;\n    }\n\n    .dataframe tbody tr th {\n        vertical-align: top;\n    }\n\n    .dataframe thead th {\n        text-align: right;\n    }\n</style>\n<table border=\"1\" class=\"dataframe\">\n  <thead>\n    <tr style=\"text-align: right;\">\n      <th></th>\n      <th>Rang</th>\n      <th>Account</th>\n      <th>Name</th>\n      <th>Balance (XRP)</th>\n      <th>In Escrow (XRP)</th>\n      <th>%</th>\n    </tr>\n  </thead>\n  <tbody>\n    <tr>\n      <th>0</th>\n      <td>1</td>\n      <td>rB3WNZc45gxzW31zxfXdkx8HusAhoqscPn</td>\n      <td>Ripple (11)</td>\n      <td>222 XRP</td>\n      <td>5,000,000,000 XRP</td>\n      <td>5.001%</td>\n    </tr>\n    <tr>\n      <th>1</th>\n      <td>2</td>\n      <td>r9UUEXn3cx2seufBkDa8F86usfjWM6HiYp</td>\n      <td>Ripple (10)</td>\n      <td>220 XRP</td>\n      <td>5,000,000,000 XRP</td>\n      <td>5.001%</td>\n    </tr>\n    <tr>\n      <th>2</th>\n      <td>3</td>\n      <td>r9NpyVfLfUG8hatuCCHKzosyDtKnBdsEN3</td>\n      <td>Ripple (9)</td>\n      <td>204 XRP</td>\n      <td>5,000,000,000 XRP</td>\n      <td>5.001%</td>\n    </tr>\n    <tr>\n      <th>3</th>\n      <td>4</td>\n      <td>rMhkqz3DeU7GUUJKGZofusbrTwZe6bDyb1</td>\n      <td>Ripple (28)</td>\n      <td>202 XRP</td>\n      <td>5,000,000,000 XRP</td>\n      <td>5.001%</td>\n    </tr>\n    <tr>\n      <th>4</th>\n      <td>5</td>\n      <td>rGKHDyj4L6pc7DzRB6LWCR4YfZfzXj2Bdh</td>\n      <td>Ripple (26)</td>\n      <td>201 XRP</td>\n      <td>5,000,000,000 XRP</td>\n      <td>5.001%</td>\n    </tr>\n  </tbody>\n</table>\n</div>"
     },
     "execution_count": 11,
     "metadata": {},
     "output_type": "execute_result"
    }
   ],
   "source": [
    "# load the copy of XRPSCAN_Data_valuesonly-2.xlsx\n",
    "df2 = pd.read_excel('../data/Copy of XRPSCAN_Data_valuesonly-2.xlsx')\n",
    "df2.head()"
   ],
   "metadata": {
    "collapsed": false,
    "ExecuteTime": {
     "end_time": "2024-09-24T16:21:57.114748Z",
     "start_time": "2024-09-24T16:21:56.500400Z"
    }
   },
   "id": "32f9b444f2d07e3d",
   "execution_count": 11
  },
  {
   "cell_type": "code",
   "outputs": [
    {
     "data": {
      "text/plain": "      Rang                             Account               Name  \\\n11      12  rDxJNbV23mu9xsWoQHoBqZQvc77YcbJXwb         UPbit (22)   \n14      15  rsX8cp4aj9grKVD9V1K2ouUBXgYsjgUtBL         Uphold (8)   \n17      18  rw7m3CtVHwGSdhFjV4MyJozmZJv3DYQnsA        bitbank (2)   \n44      45  rJmXYcKCGJSayp4sAdp6Eo4CdSFtDVv7WG     Crypto.com (3)   \n50      51  rstryhbE73v18SnJ3R8j1FSNYFWCSdELEd                NaN   \n...    ...                                 ...                ...   \n8945  8946  raBSxYLSmuxTieTFDYNjkoWpuMoVuk213Y        Bitazza (2)   \n9094  9095  rLHtvB1kZimYJsDCqCX4iQxRtSAqqFtrA7  AltCoinTrader (1)   \n9160  9161  rMWwdmnrD8NFgdxv5T4sMKDqsshrhYVqLd                NaN   \n9713  9714  rpY7bZBkA98P8zds5LdBktAKj9ifekPdkE       bitFlyer (3)   \n9867  9868  rD6CRXKStVfQTXztBPCUadTHxCAock82UM                NaN   \n\n          Balance (XRP) In Escrow (XRP)       %  \n11    1,565,482,229 XRP             NaN  1.566%  \n14    1,052,041,044 XRP             NaN  1.052%  \n17      631,235,599 XRP         500 XRP  0.631%  \n44      318,492,525 XRP             NaN  0.319%  \n50      259,977,994 XRP             NaN  0.260%  \n...                 ...             ...     ...  \n8945        273,551 XRP             NaN  0.000%  \n9094        269,367 XRP             NaN  0.000%  \n9160        267,059 XRP         200 XRP  0.000%  \n9713        252,637 XRP             NaN  0.000%  \n9867        250,313 XRP             NaN  0.000%  \n\n[183 rows x 6 columns]",
      "text/html": "<div>\n<style scoped>\n    .dataframe tbody tr th:only-of-type {\n        vertical-align: middle;\n    }\n\n    .dataframe tbody tr th {\n        vertical-align: top;\n    }\n\n    .dataframe thead th {\n        text-align: right;\n    }\n</style>\n<table border=\"1\" class=\"dataframe\">\n  <thead>\n    <tr style=\"text-align: right;\">\n      <th></th>\n      <th>Rang</th>\n      <th>Account</th>\n      <th>Name</th>\n      <th>Balance (XRP)</th>\n      <th>In Escrow (XRP)</th>\n      <th>%</th>\n    </tr>\n  </thead>\n  <tbody>\n    <tr>\n      <th>11</th>\n      <td>12</td>\n      <td>rDxJNbV23mu9xsWoQHoBqZQvc77YcbJXwb</td>\n      <td>UPbit (22)</td>\n      <td>1,565,482,229 XRP</td>\n      <td>NaN</td>\n      <td>1.566%</td>\n    </tr>\n    <tr>\n      <th>14</th>\n      <td>15</td>\n      <td>rsX8cp4aj9grKVD9V1K2ouUBXgYsjgUtBL</td>\n      <td>Uphold (8)</td>\n      <td>1,052,041,044 XRP</td>\n      <td>NaN</td>\n      <td>1.052%</td>\n    </tr>\n    <tr>\n      <th>17</th>\n      <td>18</td>\n      <td>rw7m3CtVHwGSdhFjV4MyJozmZJv3DYQnsA</td>\n      <td>bitbank (2)</td>\n      <td>631,235,599 XRP</td>\n      <td>500 XRP</td>\n      <td>0.631%</td>\n    </tr>\n    <tr>\n      <th>44</th>\n      <td>45</td>\n      <td>rJmXYcKCGJSayp4sAdp6Eo4CdSFtDVv7WG</td>\n      <td>Crypto.com (3)</td>\n      <td>318,492,525 XRP</td>\n      <td>NaN</td>\n      <td>0.319%</td>\n    </tr>\n    <tr>\n      <th>50</th>\n      <td>51</td>\n      <td>rstryhbE73v18SnJ3R8j1FSNYFWCSdELEd</td>\n      <td>NaN</td>\n      <td>259,977,994 XRP</td>\n      <td>NaN</td>\n      <td>0.260%</td>\n    </tr>\n    <tr>\n      <th>...</th>\n      <td>...</td>\n      <td>...</td>\n      <td>...</td>\n      <td>...</td>\n      <td>...</td>\n      <td>...</td>\n    </tr>\n    <tr>\n      <th>8945</th>\n      <td>8946</td>\n      <td>raBSxYLSmuxTieTFDYNjkoWpuMoVuk213Y</td>\n      <td>Bitazza (2)</td>\n      <td>273,551 XRP</td>\n      <td>NaN</td>\n      <td>0.000%</td>\n    </tr>\n    <tr>\n      <th>9094</th>\n      <td>9095</td>\n      <td>rLHtvB1kZimYJsDCqCX4iQxRtSAqqFtrA7</td>\n      <td>AltCoinTrader (1)</td>\n      <td>269,367 XRP</td>\n      <td>NaN</td>\n      <td>0.000%</td>\n    </tr>\n    <tr>\n      <th>9160</th>\n      <td>9161</td>\n      <td>rMWwdmnrD8NFgdxv5T4sMKDqsshrhYVqLd</td>\n      <td>NaN</td>\n      <td>267,059 XRP</td>\n      <td>200 XRP</td>\n      <td>0.000%</td>\n    </tr>\n    <tr>\n      <th>9713</th>\n      <td>9714</td>\n      <td>rpY7bZBkA98P8zds5LdBktAKj9ifekPdkE</td>\n      <td>bitFlyer (3)</td>\n      <td>252,637 XRP</td>\n      <td>NaN</td>\n      <td>0.000%</td>\n    </tr>\n    <tr>\n      <th>9867</th>\n      <td>9868</td>\n      <td>rD6CRXKStVfQTXztBPCUadTHxCAock82UM</td>\n      <td>NaN</td>\n      <td>250,313 XRP</td>\n      <td>NaN</td>\n      <td>0.000%</td>\n    </tr>\n  </tbody>\n</table>\n<p>183 rows × 6 columns</p>\n</div>"
     },
     "execution_count": 24,
     "metadata": {},
     "output_type": "execute_result"
    }
   ],
   "source": [
    "# show the addresses from df2 that are in df['Account'] or df['Destination']\n",
    "common_addresses = df2[df2['Account'].isin(df['Account']) | df2['Account'].isin(df['Destination'])]"
   ],
   "metadata": {
    "collapsed": false,
    "ExecuteTime": {
     "end_time": "2024-09-25T09:13:14.642369Z",
     "start_time": "2024-09-25T09:13:14.507562Z"
    }
   },
   "id": "781760c5c7939f55",
   "execution_count": 24
  },
  {
   "cell_type": "code",
   "outputs": [
    {
     "data": {
      "text/plain": "      Rang                             Account               Name  \\\n11      12  rDxJNbV23mu9xsWoQHoBqZQvc77YcbJXwb         UPbit (22)   \n14      15  rsX8cp4aj9grKVD9V1K2ouUBXgYsjgUtBL         Uphold (8)   \n17      18  rw7m3CtVHwGSdhFjV4MyJozmZJv3DYQnsA        bitbank (2)   \n44      45  rJmXYcKCGJSayp4sAdp6Eo4CdSFtDVv7WG     Crypto.com (3)   \n50      51  rstryhbE73v18SnJ3R8j1FSNYFWCSdELEd                NaN   \n...    ...                                 ...                ...   \n8945  8946  raBSxYLSmuxTieTFDYNjkoWpuMoVuk213Y        Bitazza (2)   \n9094  9095  rLHtvB1kZimYJsDCqCX4iQxRtSAqqFtrA7  AltCoinTrader (1)   \n9160  9161  rMWwdmnrD8NFgdxv5T4sMKDqsshrhYVqLd                NaN   \n9713  9714  rpY7bZBkA98P8zds5LdBktAKj9ifekPdkE       bitFlyer (3)   \n9867  9868  rD6CRXKStVfQTXztBPCUadTHxCAock82UM                NaN   \n\n          Balance (XRP) In Escrow (XRP)       %  \n11    1,565,482,229 XRP             NaN  1.566%  \n14    1,052,041,044 XRP             NaN  1.052%  \n17      631,235,599 XRP         500 XRP  0.631%  \n44      318,492,525 XRP             NaN  0.319%  \n50      259,977,994 XRP             NaN  0.260%  \n...                 ...             ...     ...  \n8945        273,551 XRP             NaN  0.000%  \n9094        269,367 XRP             NaN  0.000%  \n9160        267,059 XRP         200 XRP  0.000%  \n9713        252,637 XRP             NaN  0.000%  \n9867        250,313 XRP             NaN  0.000%  \n\n[183 rows x 6 columns]",
      "text/html": "<div>\n<style scoped>\n    .dataframe tbody tr th:only-of-type {\n        vertical-align: middle;\n    }\n\n    .dataframe tbody tr th {\n        vertical-align: top;\n    }\n\n    .dataframe thead th {\n        text-align: right;\n    }\n</style>\n<table border=\"1\" class=\"dataframe\">\n  <thead>\n    <tr style=\"text-align: right;\">\n      <th></th>\n      <th>Rang</th>\n      <th>Account</th>\n      <th>Name</th>\n      <th>Balance (XRP)</th>\n      <th>In Escrow (XRP)</th>\n      <th>%</th>\n    </tr>\n  </thead>\n  <tbody>\n    <tr>\n      <th>11</th>\n      <td>12</td>\n      <td>rDxJNbV23mu9xsWoQHoBqZQvc77YcbJXwb</td>\n      <td>UPbit (22)</td>\n      <td>1,565,482,229 XRP</td>\n      <td>NaN</td>\n      <td>1.566%</td>\n    </tr>\n    <tr>\n      <th>14</th>\n      <td>15</td>\n      <td>rsX8cp4aj9grKVD9V1K2ouUBXgYsjgUtBL</td>\n      <td>Uphold (8)</td>\n      <td>1,052,041,044 XRP</td>\n      <td>NaN</td>\n      <td>1.052%</td>\n    </tr>\n    <tr>\n      <th>17</th>\n      <td>18</td>\n      <td>rw7m3CtVHwGSdhFjV4MyJozmZJv3DYQnsA</td>\n      <td>bitbank (2)</td>\n      <td>631,235,599 XRP</td>\n      <td>500 XRP</td>\n      <td>0.631%</td>\n    </tr>\n    <tr>\n      <th>44</th>\n      <td>45</td>\n      <td>rJmXYcKCGJSayp4sAdp6Eo4CdSFtDVv7WG</td>\n      <td>Crypto.com (3)</td>\n      <td>318,492,525 XRP</td>\n      <td>NaN</td>\n      <td>0.319%</td>\n    </tr>\n    <tr>\n      <th>50</th>\n      <td>51</td>\n      <td>rstryhbE73v18SnJ3R8j1FSNYFWCSdELEd</td>\n      <td>NaN</td>\n      <td>259,977,994 XRP</td>\n      <td>NaN</td>\n      <td>0.260%</td>\n    </tr>\n    <tr>\n      <th>...</th>\n      <td>...</td>\n      <td>...</td>\n      <td>...</td>\n      <td>...</td>\n      <td>...</td>\n      <td>...</td>\n    </tr>\n    <tr>\n      <th>8945</th>\n      <td>8946</td>\n      <td>raBSxYLSmuxTieTFDYNjkoWpuMoVuk213Y</td>\n      <td>Bitazza (2)</td>\n      <td>273,551 XRP</td>\n      <td>NaN</td>\n      <td>0.000%</td>\n    </tr>\n    <tr>\n      <th>9094</th>\n      <td>9095</td>\n      <td>rLHtvB1kZimYJsDCqCX4iQxRtSAqqFtrA7</td>\n      <td>AltCoinTrader (1)</td>\n      <td>269,367 XRP</td>\n      <td>NaN</td>\n      <td>0.000%</td>\n    </tr>\n    <tr>\n      <th>9160</th>\n      <td>9161</td>\n      <td>rMWwdmnrD8NFgdxv5T4sMKDqsshrhYVqLd</td>\n      <td>NaN</td>\n      <td>267,059 XRP</td>\n      <td>200 XRP</td>\n      <td>0.000%</td>\n    </tr>\n    <tr>\n      <th>9713</th>\n      <td>9714</td>\n      <td>rpY7bZBkA98P8zds5LdBktAKj9ifekPdkE</td>\n      <td>bitFlyer (3)</td>\n      <td>252,637 XRP</td>\n      <td>NaN</td>\n      <td>0.000%</td>\n    </tr>\n    <tr>\n      <th>9867</th>\n      <td>9868</td>\n      <td>rD6CRXKStVfQTXztBPCUadTHxCAock82UM</td>\n      <td>NaN</td>\n      <td>250,313 XRP</td>\n      <td>NaN</td>\n      <td>0.000%</td>\n    </tr>\n  </tbody>\n</table>\n<p>183 rows × 6 columns</p>\n</div>"
     },
     "execution_count": 21,
     "metadata": {},
     "output_type": "execute_result"
    }
   ],
   "source": [
    "common_addresses"
   ],
   "metadata": {
    "collapsed": false,
    "ExecuteTime": {
     "end_time": "2024-09-24T16:29:54.179517Z",
     "start_time": "2024-09-24T16:29:54.174492Z"
    }
   },
   "id": "80df0166ca81fd3d",
   "execution_count": 21
  },
  {
   "cell_type": "code",
   "outputs": [
    {
     "data": {
      "text/plain": "       LedgerSequence                  CloseTime TransactionType  \\\n12           90970881  2024-09-24 15:56:01+00:00         Payment   \n104          90970879  2024-09-24 15:55:52+00:00     OfferCancel   \n131          90970879  2024-09-24 15:55:52+00:00         Payment   \n137          90970879  2024-09-24 15:55:52+00:00     OfferCancel   \n140          90970879  2024-09-24 15:55:52+00:00         Payment   \n...               ...                        ...             ...   \n65173        90969886  2024-09-24 14:51:01+00:00         Payment   \n65174        90969886  2024-09-24 14:51:01+00:00         Payment   \n65176        90969886  2024-09-24 14:51:01+00:00         Payment   \n65185        90969886  2024-09-24 14:51:01+00:00         Payment   \n65197        90969886  2024-09-24 14:51:01+00:00         Payment   \n\n                                  Account   Fee   Sequence AccountTxnID  \\\n12     rKLJgTckWD9uz9Uh4mS2CWTKJVGTePP44c    15   90367079          NaN   \n104    r3rhWeE31Jt5sWmi4QiGLMZnY3ENgqw96W    10  105999244          NaN   \n131    r4BBoZghscZgjMS5GJj1QCEdpWKdn7iTXn    12   97520880          NaN   \n137    r3rhWeE31Jt5sWmi4QiGLMZnY3ENgqw96W    10  105999243          NaN   \n140    rnDGxzUM2snx58Bvyn72xhJKqvkDxo2tQm   100   70490522          NaN   \n...                                   ...   ...        ...          ...   \n65173  rfQ9EcLkU6WnNmkS3EwUkFeXeN47Rk8Cvi  3000   85403843          NaN   \n65174  r4BBoZghscZgjMS5GJj1QCEdpWKdn7iTXn    12   97495529          NaN   \n65176  rLHzPsX6oXkzU2qL12kHCH8G8cnZv1rBJh  6000    1870169          NaN   \n65185  r4BBoZghscZgjMS5GJj1QCEdpWKdn7iTXn    12   97495540          NaN   \n65197  rLoqMgpjwGEQinYEM623za8c2nC2Uah8v7  1000   88691528          NaN   \n\n              Flags  LastLedgerSequence Memos  ...  AffectedNodes  \\\n12     2.147484e+09          90973960.0   NaN  ...            NaN   \n104    0.000000e+00          90970882.0   NaN  ...            NaN   \n131    0.000000e+00          90970952.0   NaN  ...            NaN   \n137    0.000000e+00          90970882.0   NaN  ...            NaN   \n140    2.147484e+09          90980865.0   NaN  ...            NaN   \n...             ...                 ...   ...  ...            ...   \n65173  0.000000e+00          90969899.0   NaN  ...            NaN   \n65174  0.000000e+00          90969959.0   NaN  ...            NaN   \n65176  2.147484e+09          90969890.0   NaN  ...            NaN   \n65185  0.000000e+00          90969959.0   NaN  ...            NaN   \n65197  0.000000e+00                 NaN   NaN  ...            NaN   \n\n      DeliveredAmount  OwnerCount SetFlag  ClearFlag Domain  EmailHash  \\\n12                NaN         NaN     NaN        NaN    NaN        NaN   \n104               NaN         NaN     NaN        NaN    NaN        NaN   \n131               NaN         NaN     NaN        NaN    NaN        NaN   \n137               NaN         NaN     NaN        NaN    NaN        NaN   \n140               NaN         NaN     NaN        NaN    NaN        NaN   \n...               ...         ...     ...        ...    ...        ...   \n65173             NaN         NaN     NaN        NaN    NaN        NaN   \n65174             NaN         NaN     NaN        NaN    NaN        NaN   \n65176             NaN         NaN     NaN        NaN    NaN        NaN   \n65185             NaN         NaN     NaN        NaN    NaN        NaN   \n65197             NaN         NaN     NaN        NaN    NaN        NaN   \n\n      MessageKey  TransferRate RegularKey  \n12           NaN           NaN        NaN  \n104          NaN           NaN        NaN  \n131          NaN           NaN        NaN  \n137          NaN           NaN        NaN  \n140          NaN           NaN        NaN  \n...          ...           ...        ...  \n65173        NaN           NaN        NaN  \n65174        NaN           NaN        NaN  \n65176        NaN           NaN        NaN  \n65185        NaN           NaN        NaN  \n65197        NaN           NaN        NaN  \n\n[6556 rows x 45 columns]",
      "text/html": "<div>\n<style scoped>\n    .dataframe tbody tr th:only-of-type {\n        vertical-align: middle;\n    }\n\n    .dataframe tbody tr th {\n        vertical-align: top;\n    }\n\n    .dataframe thead th {\n        text-align: right;\n    }\n</style>\n<table border=\"1\" class=\"dataframe\">\n  <thead>\n    <tr style=\"text-align: right;\">\n      <th></th>\n      <th>LedgerSequence</th>\n      <th>CloseTime</th>\n      <th>TransactionType</th>\n      <th>Account</th>\n      <th>Fee</th>\n      <th>Sequence</th>\n      <th>AccountTxnID</th>\n      <th>Flags</th>\n      <th>LastLedgerSequence</th>\n      <th>Memos</th>\n      <th>...</th>\n      <th>AffectedNodes</th>\n      <th>DeliveredAmount</th>\n      <th>OwnerCount</th>\n      <th>SetFlag</th>\n      <th>ClearFlag</th>\n      <th>Domain</th>\n      <th>EmailHash</th>\n      <th>MessageKey</th>\n      <th>TransferRate</th>\n      <th>RegularKey</th>\n    </tr>\n  </thead>\n  <tbody>\n    <tr>\n      <th>12</th>\n      <td>90970881</td>\n      <td>2024-09-24 15:56:01+00:00</td>\n      <td>Payment</td>\n      <td>rKLJgTckWD9uz9Uh4mS2CWTKJVGTePP44c</td>\n      <td>15</td>\n      <td>90367079</td>\n      <td>NaN</td>\n      <td>2.147484e+09</td>\n      <td>90973960.0</td>\n      <td>NaN</td>\n      <td>...</td>\n      <td>NaN</td>\n      <td>NaN</td>\n      <td>NaN</td>\n      <td>NaN</td>\n      <td>NaN</td>\n      <td>NaN</td>\n      <td>NaN</td>\n      <td>NaN</td>\n      <td>NaN</td>\n      <td>NaN</td>\n    </tr>\n    <tr>\n      <th>104</th>\n      <td>90970879</td>\n      <td>2024-09-24 15:55:52+00:00</td>\n      <td>OfferCancel</td>\n      <td>r3rhWeE31Jt5sWmi4QiGLMZnY3ENgqw96W</td>\n      <td>10</td>\n      <td>105999244</td>\n      <td>NaN</td>\n      <td>0.000000e+00</td>\n      <td>90970882.0</td>\n      <td>NaN</td>\n      <td>...</td>\n      <td>NaN</td>\n      <td>NaN</td>\n      <td>NaN</td>\n      <td>NaN</td>\n      <td>NaN</td>\n      <td>NaN</td>\n      <td>NaN</td>\n      <td>NaN</td>\n      <td>NaN</td>\n      <td>NaN</td>\n    </tr>\n    <tr>\n      <th>131</th>\n      <td>90970879</td>\n      <td>2024-09-24 15:55:52+00:00</td>\n      <td>Payment</td>\n      <td>r4BBoZghscZgjMS5GJj1QCEdpWKdn7iTXn</td>\n      <td>12</td>\n      <td>97520880</td>\n      <td>NaN</td>\n      <td>0.000000e+00</td>\n      <td>90970952.0</td>\n      <td>NaN</td>\n      <td>...</td>\n      <td>NaN</td>\n      <td>NaN</td>\n      <td>NaN</td>\n      <td>NaN</td>\n      <td>NaN</td>\n      <td>NaN</td>\n      <td>NaN</td>\n      <td>NaN</td>\n      <td>NaN</td>\n      <td>NaN</td>\n    </tr>\n    <tr>\n      <th>137</th>\n      <td>90970879</td>\n      <td>2024-09-24 15:55:52+00:00</td>\n      <td>OfferCancel</td>\n      <td>r3rhWeE31Jt5sWmi4QiGLMZnY3ENgqw96W</td>\n      <td>10</td>\n      <td>105999243</td>\n      <td>NaN</td>\n      <td>0.000000e+00</td>\n      <td>90970882.0</td>\n      <td>NaN</td>\n      <td>...</td>\n      <td>NaN</td>\n      <td>NaN</td>\n      <td>NaN</td>\n      <td>NaN</td>\n      <td>NaN</td>\n      <td>NaN</td>\n      <td>NaN</td>\n      <td>NaN</td>\n      <td>NaN</td>\n      <td>NaN</td>\n    </tr>\n    <tr>\n      <th>140</th>\n      <td>90970879</td>\n      <td>2024-09-24 15:55:52+00:00</td>\n      <td>Payment</td>\n      <td>rnDGxzUM2snx58Bvyn72xhJKqvkDxo2tQm</td>\n      <td>100</td>\n      <td>70490522</td>\n      <td>NaN</td>\n      <td>2.147484e+09</td>\n      <td>90980865.0</td>\n      <td>NaN</td>\n      <td>...</td>\n      <td>NaN</td>\n      <td>NaN</td>\n      <td>NaN</td>\n      <td>NaN</td>\n      <td>NaN</td>\n      <td>NaN</td>\n      <td>NaN</td>\n      <td>NaN</td>\n      <td>NaN</td>\n      <td>NaN</td>\n    </tr>\n    <tr>\n      <th>...</th>\n      <td>...</td>\n      <td>...</td>\n      <td>...</td>\n      <td>...</td>\n      <td>...</td>\n      <td>...</td>\n      <td>...</td>\n      <td>...</td>\n      <td>...</td>\n      <td>...</td>\n      <td>...</td>\n      <td>...</td>\n      <td>...</td>\n      <td>...</td>\n      <td>...</td>\n      <td>...</td>\n      <td>...</td>\n      <td>...</td>\n      <td>...</td>\n      <td>...</td>\n      <td>...</td>\n    </tr>\n    <tr>\n      <th>65173</th>\n      <td>90969886</td>\n      <td>2024-09-24 14:51:01+00:00</td>\n      <td>Payment</td>\n      <td>rfQ9EcLkU6WnNmkS3EwUkFeXeN47Rk8Cvi</td>\n      <td>3000</td>\n      <td>85403843</td>\n      <td>NaN</td>\n      <td>0.000000e+00</td>\n      <td>90969899.0</td>\n      <td>NaN</td>\n      <td>...</td>\n      <td>NaN</td>\n      <td>NaN</td>\n      <td>NaN</td>\n      <td>NaN</td>\n      <td>NaN</td>\n      <td>NaN</td>\n      <td>NaN</td>\n      <td>NaN</td>\n      <td>NaN</td>\n      <td>NaN</td>\n    </tr>\n    <tr>\n      <th>65174</th>\n      <td>90969886</td>\n      <td>2024-09-24 14:51:01+00:00</td>\n      <td>Payment</td>\n      <td>r4BBoZghscZgjMS5GJj1QCEdpWKdn7iTXn</td>\n      <td>12</td>\n      <td>97495529</td>\n      <td>NaN</td>\n      <td>0.000000e+00</td>\n      <td>90969959.0</td>\n      <td>NaN</td>\n      <td>...</td>\n      <td>NaN</td>\n      <td>NaN</td>\n      <td>NaN</td>\n      <td>NaN</td>\n      <td>NaN</td>\n      <td>NaN</td>\n      <td>NaN</td>\n      <td>NaN</td>\n      <td>NaN</td>\n      <td>NaN</td>\n    </tr>\n    <tr>\n      <th>65176</th>\n      <td>90969886</td>\n      <td>2024-09-24 14:51:01+00:00</td>\n      <td>Payment</td>\n      <td>rLHzPsX6oXkzU2qL12kHCH8G8cnZv1rBJh</td>\n      <td>6000</td>\n      <td>1870169</td>\n      <td>NaN</td>\n      <td>2.147484e+09</td>\n      <td>90969890.0</td>\n      <td>NaN</td>\n      <td>...</td>\n      <td>NaN</td>\n      <td>NaN</td>\n      <td>NaN</td>\n      <td>NaN</td>\n      <td>NaN</td>\n      <td>NaN</td>\n      <td>NaN</td>\n      <td>NaN</td>\n      <td>NaN</td>\n      <td>NaN</td>\n    </tr>\n    <tr>\n      <th>65185</th>\n      <td>90969886</td>\n      <td>2024-09-24 14:51:01+00:00</td>\n      <td>Payment</td>\n      <td>r4BBoZghscZgjMS5GJj1QCEdpWKdn7iTXn</td>\n      <td>12</td>\n      <td>97495540</td>\n      <td>NaN</td>\n      <td>0.000000e+00</td>\n      <td>90969959.0</td>\n      <td>NaN</td>\n      <td>...</td>\n      <td>NaN</td>\n      <td>NaN</td>\n      <td>NaN</td>\n      <td>NaN</td>\n      <td>NaN</td>\n      <td>NaN</td>\n      <td>NaN</td>\n      <td>NaN</td>\n      <td>NaN</td>\n      <td>NaN</td>\n    </tr>\n    <tr>\n      <th>65197</th>\n      <td>90969886</td>\n      <td>2024-09-24 14:51:01+00:00</td>\n      <td>Payment</td>\n      <td>rLoqMgpjwGEQinYEM623za8c2nC2Uah8v7</td>\n      <td>1000</td>\n      <td>88691528</td>\n      <td>NaN</td>\n      <td>0.000000e+00</td>\n      <td>NaN</td>\n      <td>NaN</td>\n      <td>...</td>\n      <td>NaN</td>\n      <td>NaN</td>\n      <td>NaN</td>\n      <td>NaN</td>\n      <td>NaN</td>\n      <td>NaN</td>\n      <td>NaN</td>\n      <td>NaN</td>\n      <td>NaN</td>\n      <td>NaN</td>\n    </tr>\n  </tbody>\n</table>\n<p>6556 rows × 45 columns</p>\n</div>"
     },
     "execution_count": 26,
     "metadata": {},
     "output_type": "execute_result"
    }
   ],
   "source": [
    "# show all transactions of df that have the common addresses\n",
    "known_address_trans = df[df['Account'].isin(common_addresses['Account']) | df['Destination'].isin(common_addresses['Account'])]\n",
    "known_address_trans"
   ],
   "metadata": {
    "collapsed": false,
    "ExecuteTime": {
     "end_time": "2024-09-25T09:16:14.921909Z",
     "start_time": "2024-09-25T09:16:14.850216Z"
    }
   },
   "id": "2cc21d8752ed910f",
   "execution_count": 26
  },
  {
   "cell_type": "code",
   "outputs": [
    {
     "data": {
      "text/plain": "TransactionType\nPayment          5103\nOfferCancel       733\nOfferCreate       717\nEscrowCreate        2\nAccountDelete       1\nName: count, dtype: int64"
     },
     "execution_count": 28,
     "metadata": {},
     "output_type": "execute_result"
    }
   ],
   "source": [
    "# show the most frequent addresses in account column of known_address_trans\n",
    "known_address_trans['TransactionType'].value_counts().head(10)"
   ],
   "metadata": {
    "collapsed": false,
    "ExecuteTime": {
     "end_time": "2024-09-25T09:18:30.313836Z",
     "start_time": "2024-09-25T09:18:30.295562Z"
    }
   },
   "id": "3160caa9a8e660a9",
   "execution_count": 28
  },
  {
   "cell_type": "code",
   "outputs": [
    {
     "data": {
      "text/plain": "24129.0"
     },
     "execution_count": 30,
     "metadata": {},
     "output_type": "execute_result"
    }
   ],
   "source": [
    "# average amount of XRP sent by known addresses\n",
    "(known_address_trans['Amount'].median())"
   ],
   "metadata": {
    "collapsed": false,
    "ExecuteTime": {
     "end_time": "2024-09-25T10:09:24.261966Z",
     "start_time": "2024-09-25T10:09:24.201038Z"
    }
   },
   "id": "26a444bfe37f74e4",
   "execution_count": 30
  },
  {
   "cell_type": "code",
   "outputs": [
    {
     "data": {
      "text/plain": "1584.5"
     },
     "execution_count": 31,
     "metadata": {},
     "output_type": "execute_result"
    }
   ],
   "source": [
    "# median of amount df\n",
    "(df['Amount'].median())"
   ],
   "metadata": {
    "collapsed": false,
    "ExecuteTime": {
     "end_time": "2024-09-25T10:09:45.836116Z",
     "start_time": "2024-09-25T10:09:45.825035Z"
    }
   },
   "id": "a0ecb52707680144",
   "execution_count": 31
  },
  {
   "cell_type": "code",
   "outputs": [
    {
     "data": {
      "text/plain": "             Amount                         Destination  \\\n37713  1.000000e+17  raxcmNMenLH5bwYjhKkJRXpBzvh5H3b99H   \n33329  1.000000e+17  r9pe9FD8PQStVG571TFj6mehZW7QjS9qNb   \n43951  1.000000e+17  rUkSpdqFeFDBWNK16P8i2cqqH5iZgb9VKv   \n44772  6.976501e+13   rwgUxtxjJ85ns8sCaeDGnS8vTMa92xSz7   \n15384  3.793714e+12  rBtttd61FExHC68vsZ8dqmS3DfjFEceA1A   \n62959  2.588059e+12  r4sRyacXpbh4HbagmgfoQq8Q3j8ZJzbZ1J   \n12021  2.140153e+12  rHPGFxtgJCd2gAvUvvhyZ2H63CASVjcJ2u   \n64549  2.045061e+12  rD65okgyRLdBUGWsYWpYfmkygVC7zZxcKW   \n39829  1.387904e+12  rDAE53VfMvftPB4ogpWGWvzkQxfht6JPxr   \n28390  1.219161e+12  rwpTh9DDa52XkM9nTKp2QrJuCGV5d1mQVP   \n\n                                  Account TransactionType  \n37713  raxcmNMenLH5bwYjhKkJRXpBzvh5H3b99H         Payment  \n33329  r9pe9FD8PQStVG571TFj6mehZW7QjS9qNb         Payment  \n43951  rUkSpdqFeFDBWNK16P8i2cqqH5iZgb9VKv         Payment  \n44772  raV2yNEbPsr7hSr8ojnu8dYZG8ELw65HVH         Payment  \n15384  rDAE53VfMvftPB4ogpWGWvzkQxfht6JPxr         Payment  \n62959  rfNCg2CEJ4Gub7rAQcDNuVQ2nB6qUgb1qV         Payment  \n12021  rBtttd61FExHC68vsZ8dqmS3DfjFEceA1A         Payment  \n64549  rDT9vb8Jd9USHfWFh5nEhpwfJD3DbjXn88         Payment  \n39829  rNxp4h8apvRis6mJf9Sh8C6iRxfrDWN7AV         Payment  \n28390  rw2ciyaNshpHe7bCHo4bRWq6pqqynnWKQg         Payment  ",
      "text/html": "<div>\n<style scoped>\n    .dataframe tbody tr th:only-of-type {\n        vertical-align: middle;\n    }\n\n    .dataframe tbody tr th {\n        vertical-align: top;\n    }\n\n    .dataframe thead th {\n        text-align: right;\n    }\n</style>\n<table border=\"1\" class=\"dataframe\">\n  <thead>\n    <tr style=\"text-align: right;\">\n      <th></th>\n      <th>Amount</th>\n      <th>Destination</th>\n      <th>Account</th>\n      <th>TransactionType</th>\n    </tr>\n  </thead>\n  <tbody>\n    <tr>\n      <th>37713</th>\n      <td>1.000000e+17</td>\n      <td>raxcmNMenLH5bwYjhKkJRXpBzvh5H3b99H</td>\n      <td>raxcmNMenLH5bwYjhKkJRXpBzvh5H3b99H</td>\n      <td>Payment</td>\n    </tr>\n    <tr>\n      <th>33329</th>\n      <td>1.000000e+17</td>\n      <td>r9pe9FD8PQStVG571TFj6mehZW7QjS9qNb</td>\n      <td>r9pe9FD8PQStVG571TFj6mehZW7QjS9qNb</td>\n      <td>Payment</td>\n    </tr>\n    <tr>\n      <th>43951</th>\n      <td>1.000000e+17</td>\n      <td>rUkSpdqFeFDBWNK16P8i2cqqH5iZgb9VKv</td>\n      <td>rUkSpdqFeFDBWNK16P8i2cqqH5iZgb9VKv</td>\n      <td>Payment</td>\n    </tr>\n    <tr>\n      <th>44772</th>\n      <td>6.976501e+13</td>\n      <td>rwgUxtxjJ85ns8sCaeDGnS8vTMa92xSz7</td>\n      <td>raV2yNEbPsr7hSr8ojnu8dYZG8ELw65HVH</td>\n      <td>Payment</td>\n    </tr>\n    <tr>\n      <th>15384</th>\n      <td>3.793714e+12</td>\n      <td>rBtttd61FExHC68vsZ8dqmS3DfjFEceA1A</td>\n      <td>rDAE53VfMvftPB4ogpWGWvzkQxfht6JPxr</td>\n      <td>Payment</td>\n    </tr>\n    <tr>\n      <th>62959</th>\n      <td>2.588059e+12</td>\n      <td>r4sRyacXpbh4HbagmgfoQq8Q3j8ZJzbZ1J</td>\n      <td>rfNCg2CEJ4Gub7rAQcDNuVQ2nB6qUgb1qV</td>\n      <td>Payment</td>\n    </tr>\n    <tr>\n      <th>12021</th>\n      <td>2.140153e+12</td>\n      <td>rHPGFxtgJCd2gAvUvvhyZ2H63CASVjcJ2u</td>\n      <td>rBtttd61FExHC68vsZ8dqmS3DfjFEceA1A</td>\n      <td>Payment</td>\n    </tr>\n    <tr>\n      <th>64549</th>\n      <td>2.045061e+12</td>\n      <td>rD65okgyRLdBUGWsYWpYfmkygVC7zZxcKW</td>\n      <td>rDT9vb8Jd9USHfWFh5nEhpwfJD3DbjXn88</td>\n      <td>Payment</td>\n    </tr>\n    <tr>\n      <th>39829</th>\n      <td>1.387904e+12</td>\n      <td>rDAE53VfMvftPB4ogpWGWvzkQxfht6JPxr</td>\n      <td>rNxp4h8apvRis6mJf9Sh8C6iRxfrDWN7AV</td>\n      <td>Payment</td>\n    </tr>\n    <tr>\n      <th>28390</th>\n      <td>1.219161e+12</td>\n      <td>rwpTh9DDa52XkM9nTKp2QrJuCGV5d1mQVP</td>\n      <td>rw2ciyaNshpHe7bCHo4bRWq6pqqynnWKQg</td>\n      <td>Payment</td>\n    </tr>\n  </tbody>\n</table>\n</div>"
     },
     "execution_count": 35,
     "metadata": {},
     "output_type": "execute_result"
    }
   ],
   "source": [
    "# biggest transaction in df\n",
    "df[['Amount', 'Destination', 'Account', 'TransactionType']].sort_values(by='Amount', ascending=False).head(10)"
   ],
   "metadata": {
    "collapsed": false,
    "ExecuteTime": {
     "end_time": "2024-09-25T14:41:44.876609Z",
     "start_time": "2024-09-25T14:41:44.833574Z"
    }
   },
   "id": "46025a69f1e36e68",
   "execution_count": 35
  },
  {
   "cell_type": "code",
   "outputs": [
    {
     "data": {
      "text/plain": "       LedgerSequence                  CloseTime TransactionType  \\\n0            90970881  2024-09-24 15:56:01+00:00         Payment   \n1            90970881  2024-09-24 15:56:01+00:00     OfferCreate   \n2            90970881  2024-09-24 15:56:01+00:00     OfferCreate   \n3            90970881  2024-09-24 15:56:01+00:00         Payment   \n4            90970881  2024-09-24 15:56:01+00:00     OfferCreate   \n...               ...                        ...             ...   \n65195        90969886  2024-09-24 14:51:01+00:00         Payment   \n65196        90969886  2024-09-24 14:51:01+00:00         Payment   \n65197        90969886  2024-09-24 14:51:01+00:00         Payment   \n65198        90969886  2024-09-24 14:51:01+00:00     OfferCancel   \n65199        90969886  2024-09-24 14:51:01+00:00         Payment   \n\n                                  Account   Fee   Sequence AccountTxnID  \\\n0      r4BBoZghscZgjMS5GJj1QCEdpWKdn7iTXn    12   97520928          NaN   \n1       rogue5HnPRSszD9CWGSUz8UGHMVwSSKF6    10   15744203          NaN   \n2      rBTwLga3i2gz3doX6Gva3MgEV8ZCD8jjah    20  153078251          NaN   \n3      r4BBoZghscZgjMS5GJj1QCEdpWKdn7iTXn    12   97520936          NaN   \n4      rBTwLga3i2gz3doX6Gva3MgEV8ZCD8jjah    20  153078249          NaN   \n...                                   ...   ...        ...          ...   \n65195  r4BBoZghscZgjMS5GJj1QCEdpWKdn7iTXn    12   97495520          NaN   \n65196  r4BBoZghscZgjMS5GJj1QCEdpWKdn7iTXn    12   97495524          NaN   \n65197  rLoqMgpjwGEQinYEM623za8c2nC2Uah8v7  1000   88691528          NaN   \n65198  rhGbv8bgh1cw65uHvz82DaRcWzX63mvbbs    30   90571277          NaN   \n65199  r4BBoZghscZgjMS5GJj1QCEdpWKdn7iTXn    12   97495522          NaN   \n\n          Flags  LastLedgerSequence  \\\n0           0.0          90970954.0   \n1      655360.0          90970882.0   \n2           0.0          90970883.0   \n3           0.0          90970954.0   \n4           0.0          90970883.0   \n...         ...                 ...   \n65195       0.0          90969959.0   \n65196       0.0          90969959.0   \n65197       0.0                 NaN   \n65198       0.0          90969903.0   \n65199       0.0          90969959.0   \n\n                                                   Memos  ...  AffectedNodes  \\\n0                                                    NaN  ...            NaN   \n1                                                    NaN  ...            NaN   \n2                                                    NaN  ...            NaN   \n3                                                    NaN  ...            NaN   \n4                                                    NaN  ...            NaN   \n...                                                  ...  ...            ...   \n65195                                                NaN  ...            NaN   \n65196                                                NaN  ...            NaN   \n65197                                                NaN  ...            NaN   \n65198  [{'Memo': {'MemoData': '68626F742D313732373138...  ...            NaN   \n65199                                                NaN  ...            NaN   \n\n      DeliveredAmount  OwnerCount SetFlag  ClearFlag Domain  EmailHash  \\\n0                 NaN         NaN     NaN        NaN    NaN        NaN   \n1                 NaN         NaN     NaN        NaN    NaN        NaN   \n2                 NaN         NaN     NaN        NaN    NaN        NaN   \n3                 NaN         NaN     NaN        NaN    NaN        NaN   \n4                 NaN         NaN     NaN        NaN    NaN        NaN   \n...               ...         ...     ...        ...    ...        ...   \n65195             NaN         NaN     NaN        NaN    NaN        NaN   \n65196             NaN         NaN     NaN        NaN    NaN        NaN   \n65197             NaN         NaN     NaN        NaN    NaN        NaN   \n65198             NaN         NaN     NaN        NaN    NaN        NaN   \n65199             NaN         NaN     NaN        NaN    NaN        NaN   \n\n      MessageKey  TransferRate RegularKey  \n0            NaN           NaN        NaN  \n1            NaN           NaN        NaN  \n2            NaN           NaN        NaN  \n3            NaN           NaN        NaN  \n4            NaN           NaN        NaN  \n...          ...           ...        ...  \n65195        NaN           NaN        NaN  \n65196        NaN           NaN        NaN  \n65197        NaN           NaN        NaN  \n65198        NaN           NaN        NaN  \n65199        NaN           NaN        NaN  \n\n[65200 rows x 45 columns]",
      "text/html": "<div>\n<style scoped>\n    .dataframe tbody tr th:only-of-type {\n        vertical-align: middle;\n    }\n\n    .dataframe tbody tr th {\n        vertical-align: top;\n    }\n\n    .dataframe thead th {\n        text-align: right;\n    }\n</style>\n<table border=\"1\" class=\"dataframe\">\n  <thead>\n    <tr style=\"text-align: right;\">\n      <th></th>\n      <th>LedgerSequence</th>\n      <th>CloseTime</th>\n      <th>TransactionType</th>\n      <th>Account</th>\n      <th>Fee</th>\n      <th>Sequence</th>\n      <th>AccountTxnID</th>\n      <th>Flags</th>\n      <th>LastLedgerSequence</th>\n      <th>Memos</th>\n      <th>...</th>\n      <th>AffectedNodes</th>\n      <th>DeliveredAmount</th>\n      <th>OwnerCount</th>\n      <th>SetFlag</th>\n      <th>ClearFlag</th>\n      <th>Domain</th>\n      <th>EmailHash</th>\n      <th>MessageKey</th>\n      <th>TransferRate</th>\n      <th>RegularKey</th>\n    </tr>\n  </thead>\n  <tbody>\n    <tr>\n      <th>0</th>\n      <td>90970881</td>\n      <td>2024-09-24 15:56:01+00:00</td>\n      <td>Payment</td>\n      <td>r4BBoZghscZgjMS5GJj1QCEdpWKdn7iTXn</td>\n      <td>12</td>\n      <td>97520928</td>\n      <td>NaN</td>\n      <td>0.0</td>\n      <td>90970954.0</td>\n      <td>NaN</td>\n      <td>...</td>\n      <td>NaN</td>\n      <td>NaN</td>\n      <td>NaN</td>\n      <td>NaN</td>\n      <td>NaN</td>\n      <td>NaN</td>\n      <td>NaN</td>\n      <td>NaN</td>\n      <td>NaN</td>\n      <td>NaN</td>\n    </tr>\n    <tr>\n      <th>1</th>\n      <td>90970881</td>\n      <td>2024-09-24 15:56:01+00:00</td>\n      <td>OfferCreate</td>\n      <td>rogue5HnPRSszD9CWGSUz8UGHMVwSSKF6</td>\n      <td>10</td>\n      <td>15744203</td>\n      <td>NaN</td>\n      <td>655360.0</td>\n      <td>90970882.0</td>\n      <td>NaN</td>\n      <td>...</td>\n      <td>NaN</td>\n      <td>NaN</td>\n      <td>NaN</td>\n      <td>NaN</td>\n      <td>NaN</td>\n      <td>NaN</td>\n      <td>NaN</td>\n      <td>NaN</td>\n      <td>NaN</td>\n      <td>NaN</td>\n    </tr>\n    <tr>\n      <th>2</th>\n      <td>90970881</td>\n      <td>2024-09-24 15:56:01+00:00</td>\n      <td>OfferCreate</td>\n      <td>rBTwLga3i2gz3doX6Gva3MgEV8ZCD8jjah</td>\n      <td>20</td>\n      <td>153078251</td>\n      <td>NaN</td>\n      <td>0.0</td>\n      <td>90970883.0</td>\n      <td>NaN</td>\n      <td>...</td>\n      <td>NaN</td>\n      <td>NaN</td>\n      <td>NaN</td>\n      <td>NaN</td>\n      <td>NaN</td>\n      <td>NaN</td>\n      <td>NaN</td>\n      <td>NaN</td>\n      <td>NaN</td>\n      <td>NaN</td>\n    </tr>\n    <tr>\n      <th>3</th>\n      <td>90970881</td>\n      <td>2024-09-24 15:56:01+00:00</td>\n      <td>Payment</td>\n      <td>r4BBoZghscZgjMS5GJj1QCEdpWKdn7iTXn</td>\n      <td>12</td>\n      <td>97520936</td>\n      <td>NaN</td>\n      <td>0.0</td>\n      <td>90970954.0</td>\n      <td>NaN</td>\n      <td>...</td>\n      <td>NaN</td>\n      <td>NaN</td>\n      <td>NaN</td>\n      <td>NaN</td>\n      <td>NaN</td>\n      <td>NaN</td>\n      <td>NaN</td>\n      <td>NaN</td>\n      <td>NaN</td>\n      <td>NaN</td>\n    </tr>\n    <tr>\n      <th>4</th>\n      <td>90970881</td>\n      <td>2024-09-24 15:56:01+00:00</td>\n      <td>OfferCreate</td>\n      <td>rBTwLga3i2gz3doX6Gva3MgEV8ZCD8jjah</td>\n      <td>20</td>\n      <td>153078249</td>\n      <td>NaN</td>\n      <td>0.0</td>\n      <td>90970883.0</td>\n      <td>NaN</td>\n      <td>...</td>\n      <td>NaN</td>\n      <td>NaN</td>\n      <td>NaN</td>\n      <td>NaN</td>\n      <td>NaN</td>\n      <td>NaN</td>\n      <td>NaN</td>\n      <td>NaN</td>\n      <td>NaN</td>\n      <td>NaN</td>\n    </tr>\n    <tr>\n      <th>...</th>\n      <td>...</td>\n      <td>...</td>\n      <td>...</td>\n      <td>...</td>\n      <td>...</td>\n      <td>...</td>\n      <td>...</td>\n      <td>...</td>\n      <td>...</td>\n      <td>...</td>\n      <td>...</td>\n      <td>...</td>\n      <td>...</td>\n      <td>...</td>\n      <td>...</td>\n      <td>...</td>\n      <td>...</td>\n      <td>...</td>\n      <td>...</td>\n      <td>...</td>\n      <td>...</td>\n    </tr>\n    <tr>\n      <th>65195</th>\n      <td>90969886</td>\n      <td>2024-09-24 14:51:01+00:00</td>\n      <td>Payment</td>\n      <td>r4BBoZghscZgjMS5GJj1QCEdpWKdn7iTXn</td>\n      <td>12</td>\n      <td>97495520</td>\n      <td>NaN</td>\n      <td>0.0</td>\n      <td>90969959.0</td>\n      <td>NaN</td>\n      <td>...</td>\n      <td>NaN</td>\n      <td>NaN</td>\n      <td>NaN</td>\n      <td>NaN</td>\n      <td>NaN</td>\n      <td>NaN</td>\n      <td>NaN</td>\n      <td>NaN</td>\n      <td>NaN</td>\n      <td>NaN</td>\n    </tr>\n    <tr>\n      <th>65196</th>\n      <td>90969886</td>\n      <td>2024-09-24 14:51:01+00:00</td>\n      <td>Payment</td>\n      <td>r4BBoZghscZgjMS5GJj1QCEdpWKdn7iTXn</td>\n      <td>12</td>\n      <td>97495524</td>\n      <td>NaN</td>\n      <td>0.0</td>\n      <td>90969959.0</td>\n      <td>NaN</td>\n      <td>...</td>\n      <td>NaN</td>\n      <td>NaN</td>\n      <td>NaN</td>\n      <td>NaN</td>\n      <td>NaN</td>\n      <td>NaN</td>\n      <td>NaN</td>\n      <td>NaN</td>\n      <td>NaN</td>\n      <td>NaN</td>\n    </tr>\n    <tr>\n      <th>65197</th>\n      <td>90969886</td>\n      <td>2024-09-24 14:51:01+00:00</td>\n      <td>Payment</td>\n      <td>rLoqMgpjwGEQinYEM623za8c2nC2Uah8v7</td>\n      <td>1000</td>\n      <td>88691528</td>\n      <td>NaN</td>\n      <td>0.0</td>\n      <td>NaN</td>\n      <td>NaN</td>\n      <td>...</td>\n      <td>NaN</td>\n      <td>NaN</td>\n      <td>NaN</td>\n      <td>NaN</td>\n      <td>NaN</td>\n      <td>NaN</td>\n      <td>NaN</td>\n      <td>NaN</td>\n      <td>NaN</td>\n      <td>NaN</td>\n    </tr>\n    <tr>\n      <th>65198</th>\n      <td>90969886</td>\n      <td>2024-09-24 14:51:01+00:00</td>\n      <td>OfferCancel</td>\n      <td>rhGbv8bgh1cw65uHvz82DaRcWzX63mvbbs</td>\n      <td>30</td>\n      <td>90571277</td>\n      <td>NaN</td>\n      <td>0.0</td>\n      <td>90969903.0</td>\n      <td>[{'Memo': {'MemoData': '68626F742D313732373138...</td>\n      <td>...</td>\n      <td>NaN</td>\n      <td>NaN</td>\n      <td>NaN</td>\n      <td>NaN</td>\n      <td>NaN</td>\n      <td>NaN</td>\n      <td>NaN</td>\n      <td>NaN</td>\n      <td>NaN</td>\n      <td>NaN</td>\n    </tr>\n    <tr>\n      <th>65199</th>\n      <td>90969886</td>\n      <td>2024-09-24 14:51:01+00:00</td>\n      <td>Payment</td>\n      <td>r4BBoZghscZgjMS5GJj1QCEdpWKdn7iTXn</td>\n      <td>12</td>\n      <td>97495522</td>\n      <td>NaN</td>\n      <td>0.0</td>\n      <td>90969959.0</td>\n      <td>NaN</td>\n      <td>...</td>\n      <td>NaN</td>\n      <td>NaN</td>\n      <td>NaN</td>\n      <td>NaN</td>\n      <td>NaN</td>\n      <td>NaN</td>\n      <td>NaN</td>\n      <td>NaN</td>\n      <td>NaN</td>\n      <td>NaN</td>\n    </tr>\n  </tbody>\n</table>\n<p>65200 rows × 45 columns</p>\n</div>"
     },
     "execution_count": 36,
     "metadata": {},
     "output_type": "execute_result"
    }
   ],
   "source": [
    "# show the df that are exchanges\n",
    "df"
   ],
   "metadata": {
    "collapsed": false,
    "ExecuteTime": {
     "end_time": "2024-09-25T15:21:19.477910Z",
     "start_time": "2024-09-25T15:21:19.298905Z"
    }
   },
   "id": "32096a3932dbaaa1",
   "execution_count": 36
  },
  {
   "cell_type": "code",
   "outputs": [],
   "source": [],
   "metadata": {
    "collapsed": false
   },
   "id": "8e6ebddde169757d"
  }
 ],
 "metadata": {
  "kernelspec": {
   "display_name": "Python 3",
   "language": "python",
   "name": "python3"
  },
  "language_info": {
   "codemirror_mode": {
    "name": "ipython",
    "version": 2
   },
   "file_extension": ".py",
   "mimetype": "text/x-python",
   "name": "python",
   "nbconvert_exporter": "python",
   "pygments_lexer": "ipython2",
   "version": "2.7.6"
  }
 },
 "nbformat": 4,
 "nbformat_minor": 5
}
